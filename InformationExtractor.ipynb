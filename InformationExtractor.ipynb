{
  "cells": [
    {
      "cell_type": "markdown",
      "metadata": {
        "id": "view-in-github",
        "colab_type": "text"
      },
      "source": [
        "<a href=\"https://colab.research.google.com/github/Vidushi-GitHub/gcn-nlp-test/blob/main/InformationExtractor.ipynb\" target=\"_parent\"><img src=\"https://colab.research.google.com/assets/colab-badge.svg\" alt=\"Open In Colab\"/></a>"
      ]
    },
    {
      "cell_type": "markdown",
      "metadata": {
        "id": "8_4mFl-9yLSV"
      },
      "source": [
        "# **Information Extraction Model for NASA GCN Project**\n",
        "The goal of this project is to extract important information from NASA GCN Circulars for the purpose of automated data entry into the archive, which is currently done manually."
      ]
    },
    {
      "cell_type": "markdown",
      "metadata": {
        "id": "uA4A2cv9zeSM"
      },
      "source": [
        "#Step 1: Import Libraries"
      ]
    },
    {
      "cell_type": "code",
      "execution_count": 53,
      "metadata": {
        "id": "XObK2Dv1zMs0"
      },
      "outputs": [],
      "source": [
        "'''\n",
        "Author: Ronit Agarwala\n",
        "Last Modified: 09/12/2023\n",
        "'''\n",
        "\n",
        "import pandas as pd\n",
        "import tarfile\n",
        "import os\n",
        "import re\n",
        "import csv\n",
        "import torch"
      ]
    },
    {
      "cell_type": "markdown",
      "metadata": {
        "id": "uooQkAgA0lmw"
      },
      "source": [
        "#Step 2: Extract Data"
      ]
    },
    {
      "cell_type": "code",
      "execution_count": 54,
      "metadata": {
        "colab": {
          "base_uri": "https://localhost:8080/"
        },
        "id": "idFxhYaU0yHH",
        "outputId": "b4f4ac03-e42e-4da0-9856-91f39c31c633"
      },
      "outputs": [
        {
          "output_type": "stream",
          "name": "stdout",
          "text": [
            "         GRB  Time[UT] TriggerNumber        BAT RA(J2000)  \\\n",
            "0    230818A  23:27:34       1186032  285.888\\n19:03:33.1   \n",
            "1    230506C  17:09:19       1167288  134.371\\n08:57:29.0   \n",
            "2    230414B  16:14:21       1164180  181.052\\n12:04:12.5   \n",
            "3    230328B  14:54:48       1162001  291.037\\n19:24:08.9   \n",
            "4    230325A  03:15:35       1161390  296.854\\n19:47:25.0   \n",
            "..       ...       ...           ...                  ...   \n",
            "415   050319  09:31:18        111622  154.172\\n10:16:41.3   \n",
            "416   050318  15:44:37        111529   49.695\\n03:18:46.8   \n",
            "417   050315  20:59:43        111063  306.476\\n20:25:54.2   \n",
            "418   050223  03:09:06        106709  271.394\\n18:05:34.6   \n",
            "419   050126  12:00:54        103780  278.115\\n18:32:27.6   \n",
            "\n",
            "           BAT Dec(J2000) BAT T90[sec]  BAT Fluence(15-150 keV)[10-7 erg/cm2]  \\\n",
            "0      40.888\\n40:53:16.8         9.82                                  19.00   \n",
            "1      45.131\\n45:07:51.6        31.00                                  17.00   \n",
            "2      53.179\\n53:10:44.4        25.98                                   4.70   \n",
            "3      80.013\\n80:00:46.8        19.23                                  43.00   \n",
            "4    -46.067\\n-46:04:01.2        38.05                                  13.00   \n",
            "..                    ...          ...                                    ...   \n",
            "415    43.581\\n43:34:51.6      152.500                                  13.10   \n",
            "416  -46.386\\n-46:23:09.6           32                                  10.80   \n",
            "417  -42.591\\n-42:35:27.6       95.600                                  32.20   \n",
            "418  -62.465\\n-62:27:54.0       22.500                                   6.36   \n",
            "419    42.384\\n42:23:02.4       24.800                                   8.38   \n",
            "\n",
            "    XRT RA(J2000) XRT Dec(J2000)  XRT Time to FirstObservation[sec]  \\\n",
            "0     19:03:33.15     40:53:48.3                             141.12   \n",
            "1     08:57:28.23     45:07:58.6                            4600.00   \n",
            "2     12:04:22.72     53:09:15.7                             128.57   \n",
            "3     19:24:01.65     80:00:34.4                             110.33   \n",
            "4     19:47:23.94    -46:04:33.9                              94.05   \n",
            "..            ...            ...                                ...   \n",
            "415   10:16:47.90     43:32:54.5                                NaN   \n",
            "416   03:18:51.09    -46:23:45.8                                NaN   \n",
            "417   20:25:54.14    -42:36:01.5                                NaN   \n",
            "418   18:05:32.43    -62:28:20.0                                NaN   \n",
            "419           NaN            NaN                                NaN   \n",
            "\n",
            "     XRT Early Flux(0.3-10 keV)[10-11 erg/cm2/s] UVOT RA(J2000)  \\\n",
            "0                                            NaN    19:03:33.13   \n",
            "1                                            NaN            NaN   \n",
            "2                                            NaN            NaN   \n",
            "3                                            NaN    19:24:01.88   \n",
            "4                                          206.0            NaN   \n",
            "..                                           ...            ...   \n",
            "415                                          NaN    10:16:47.76   \n",
            "416                                          NaN    03:18:51.15   \n",
            "417                                          NaN            NaN   \n",
            "418                                          NaN            NaN   \n",
            "419                                          NaN            NaN   \n",
            "\n",
            "    UVOT Dec(J2000) UVOT Time toFirst Observation[sec] UVOT Magnitude  \\\n",
            "0        40:53:49.0                                144        V=18.40   \n",
            "1               NaN                               4600         V>19.2   \n",
            "2               NaN                                133        V>18.53   \n",
            "3        80:00:34.6                                114         V>17.6   \n",
            "4               NaN                                102         V>18.9   \n",
            "..              ...                                ...            ...   \n",
            "415      43:32:54.9                                 90         V=17.5   \n",
            "416     -46:23:43.7                               3279         V=19.7   \n",
            "417             NaN                                 90         V>18.5   \n",
            "418             NaN                               2782            NaN   \n",
            "419             NaN                                NaN            NaN   \n",
            "\n",
            "                          Other Observatory Detections  \\\n",
            "0    MASTER-Tavrida, Fermi (GBM), GOTO, SAO RAS Zei...   \n",
            "1         TSHAO Zeiss-1000, D50, T193-OHP, Fermi (GBM)   \n",
            "2    Mondy/AZT-33IK, Nanshan/HMT (0.5m), GROWTH-Ind...   \n",
            "3    Fermi (GBM), AZT-33IK (Mondy), AS-32 (Abastuma...   \n",
            "4                                      VLT (X-shooter)   \n",
            "..                                                 ...   \n",
            "415                         ROTSE unfiltered = 16, NOT   \n",
            "416                                           Magellan   \n",
            "417            Magellan, VLA, CTIO IR I=20.7 @ 0.5 day   \n",
            "418                            INTEGRAL/IBIS, XMM, VLT   \n",
            "419                                               Keck   \n",
            "\n",
            "                                              Redshift  \\\n",
            "0    2.42 (NOT: absorption)\\n2.42 (SAO RAS: absorpt...   \n",
            "1                                                  3.7   \n",
            "2                       3.568 (OSIRIS/GTC: absorption)   \n",
            "3          Minimal possible redshift value of z = 0.09   \n",
            "4                                1.664 (VLT: emission)   \n",
            "..                                                 ...   \n",
            "415                             3.24 (NOT: absorption)   \n",
            "416                        1.44 (Magellan: absorption)   \n",
            "417                       1.949 (Magellan: absorption)   \n",
            "418  0.5915 (Magellan: emission from host)\\n0.584 (...   \n",
            "419                              1.29 (Keck: emission)   \n",
            "\n",
            "                   Host Galaxy  \\\n",
            "0                                \n",
            "1                                \n",
            "2                                \n",
            "3                                \n",
            "4                                \n",
            "..                         ...   \n",
            "415                              \n",
            "416                              \n",
            "417                     R=23.9   \n",
            "418  R = 21.6, Ks = 18.9 (VLT)   \n",
            "419                              \n",
            "\n",
            "                                              Comments  \\\n",
            "0                                                        \n",
            "1    Due to an observing constraint, Swift did not ...   \n",
            "2                                                        \n",
            "3                                                        \n",
            "4                                   UVOT: no detection   \n",
            "..                                                 ...   \n",
            "415                                                      \n",
            "416                                                      \n",
            "417         BAT: 2 FRED-like peaks\\nUVOT: no detection   \n",
            "418  BAT: slow rise and fall, several small peaks\\n...   \n",
            "419  BAT: spikey\\nUVOT: No observation (bright star...   \n",
            "\n",
            "                                            References  \n",
            "0    BAT: GCN 34479; GCN 34515\\nXRT: GCN 34479; GCN...  \n",
            "1    BAT: GCN 33731; GCN 33743\\nXRT: GCN 33736; GCN...  \n",
            "2    BAT: GCN 33612; GCN 33645\\nXRT: GCN 33612; GCN...  \n",
            "3    BAT: GCN 33527; GCN 33541\\nXRT: GCN 33527; GCN...  \n",
            "4    BAT: GCN 33516; GCN 33523\\nXRT: GCN 33516; GCN...  \n",
            "..                                                 ...  \n",
            "415  BAT: GCN 3117; GCN 3119; TS table 9/13/05, 9/2...  \n",
            "416  BAT: GCN 3111; GCN 3134; TS table 9/13/05, 9/2...  \n",
            "417  BAT: GCN 3094; GCN 3105; TS table 9/13/05, 9/2...  \n",
            "418  BAT: GCN 3055; TS table 9/13/05, 9/24/05; arXi...  \n",
            "419  BAT: GCN 2987; TS table 9/13/05, 9/24/05; arXi...  \n",
            "\n",
            "[420 rows x 20 columns]\n"
          ]
        }
      ],
      "source": [
        "'''\n",
        "Extract table data from csv file.\n",
        "This will contain our labels for the model.\n",
        "'''\n",
        "\n",
        "df = pd.read_csv('swift_redshift_data.csv', skiprows=0, header=0)\n",
        "print(df)"
      ]
    },
    {
      "cell_type": "code",
      "execution_count": 55,
      "metadata": {
        "colab": {
          "base_uri": "https://localhost:8080/"
        },
        "id": "N0lK3VYanLXW",
        "outputId": "9e3f74ae-1e5b-4888-91ee-367251d7aad2"
      },
      "outputs": [
        {
          "output_type": "stream",
          "name": "stdout",
          "text": [
            "Number of circulars: 33653\n",
            "First circular path: ./all_gcn_circulars/gcn3/17093.gcn3\n"
          ]
        }
      ],
      "source": [
        "'''\n",
        "Extract GCN Circulars from .tar.gz file to a new unzipped folder.\n",
        "Store the path for each circular in the unzipped folder in list 'dir'.\n",
        "'''\n",
        "\n",
        "file = tarfile.open('./all_gcn_circulars.tar.gz')\n",
        "file.extractall('./all_gcn_circulars')\n",
        "file.close()\n",
        "\n",
        "dir = os.listdir('./all_gcn_circulars/gcn3') #Store all file names as strings in dir\n",
        "\n",
        "#Add file path to beginning of file names in dir\n",
        "for i in range(len(dir)):\n",
        "  dir[i] = './all_gcn_circulars/gcn3/' + dir[i]\n",
        "\n",
        "print(f\"Number of circulars: {len(dir)}\")\n",
        "print(f\"First circular path: {dir[0]}\")"
      ]
    },
    {
      "cell_type": "code",
      "execution_count": 56,
      "metadata": {
        "colab": {
          "base_uri": "https://localhost:8080/"
        },
        "id": "XsyyPc2bpXJI",
        "outputId": "ba7e49b4-d65c-440c-caab-e7d95d91ffe4"
      },
      "outputs": [
        {
          "output_type": "stream",
          "name": "stdout",
          "text": [
            "title:   gcn circular\n",
            "number:  17093\n",
            "subject: grb 141121a: mondy optical observations\n",
            "date:    14/11/24 16:56:28 gmt\n",
            "from:    alexei pozanenko at iki, moscow  <apozanen@iki.rssi.ru>\n",
            "\n",
            "e. mazaeva (iki), e. klunko (istp), a. volnova (iki), m. eselevich \n",
            "(istp), i. korobtsev (istp), a. pozanenko (iki) report on behalf of \n",
            "larger grb follow-up collaboration:\n",
            "\n",
            "we observed the field of grb 141121a (lien et al., gcn 17075) with \n",
            "azt-33ik telescope of sayan observatory (mondy) on nov., 23  starting on \n",
            "(ut) 20:57:39.  we obtained several  images in r-filter. in a combined \n",
            "image we clearly  detect optical  afterglow (tanga et al., gcn 17078; \n",
            "perley et al., gcn 17081).\n",
            "\n",
            "a preliminary photometry is based on nearby sdss  stars:\n",
            "\n",
            "date       ut start   t-t0     filter   exp.    ot    ot_err\n",
            "                               (mid, days)       (s)\n",
            "\n",
            "2014-11-23 20:57:39   2.74025  r        39*120  20.53 0.04\n",
            "\n",
            "we confirm re-brightening of the afterglow reported early (watson et al. \n",
            "gcn 17090; kuroda et al. gcn  17091; dichiara  et al. gcn 17092).\n",
            "\n",
            "\n"
          ]
        }
      ],
      "source": [
        "'''\n",
        "Iterate through each path in dir, and store the text in lower case.\n",
        "This will contain our features for the model.\n",
        "'''\n",
        "\n",
        "circulars = [] #List to store the text of each GCN\n",
        "full_text = '' #String to store entire corpus of data\n",
        "for gcn in dir:\n",
        "  with open(gcn, encoding = \"ISO-8859-1\") as f:\n",
        "    file_str = f.read().lower()\n",
        "    circulars.append(file_str)\n",
        "    full_text += file_str\n",
        "\n",
        "print(circulars[0]) #Print first circular"
      ]
    },
    {
      "cell_type": "code",
      "execution_count": 57,
      "metadata": {
        "colab": {
          "base_uri": "https://localhost:8080/"
        },
        "id": "l9Zf94EDqQyM",
        "outputId": "e01ed492-d87f-4234-dee4-9731c3238541"
      },
      "outputs": [
        {
          "output_type": "stream",
          "name": "stdout",
          "text": [
            "(['BAT: GCN 29677; GCN 29691', 'XRT: GCN 29678; GCN 29681; GCN 29686; Evans et al., 2009, MNRAS, 397, 1177', 'UVOT: GCN 29679; GCN 29697', 'Radio: GCN 29685 (OSIRIS/GTC)'], ['1.487 (OSIRIS/GTC)'], '210321A')\n",
            "(['BAT: GCN 19645; GCN 19648', 'XRT: GCN 19655; Evans et al., 2009, MNRAS, 397, 1177', 'UVOT: GCN 19645; GCN 19656', 'Radio: GCN 19849 (GMRT)'], ['The detection in all UVOT filters is consistent with a redshift of z < ~1.5'], '160703A')\n",
            "(['BAT: GCN 18076; GCN 18086', 'XRT: GCN 18076; GCN 18079; GCN 18082; Evans et al., 2009, MNRAS, 397, 1177', 'UVOT: GCN 18076; GCN 18084', 'Radio: GCN 18080 (VLT)'], ['0.313 (VLT: emission)'], '150727A')\n",
            "('Redshift: GCN 33609', ['Minimal possible redshift value of z = 0.09'], '230328B')\n",
            "('Redshift: GCN 26538 (UVOT); GCN (VLT)', ['1.19 (UVOT), 1.148 (VLT: absorption)'], '191221B')\n",
            "('21209', 'consistent with gtc results', '170531b', 'wht')\n",
            "('12542', 'consistent with gemini-south', '111107a', 'vlt')\n",
            "('11997', '1.61, pairitel', '110503a', 'tng')\n",
            "('6651', 'proposed redshift 3.626', '070721b', 'vlt')\n",
            "('5946', '0.41 possible host redshift', '061210', 'keck')\n",
            "10\n",
            "538\n"
          ]
        }
      ],
      "source": [
        "'''\n",
        "Get smaller dataframe with relevant information only.\n",
        "This section converts the SWIFT GRB Table to a python dict.\n",
        "The end result is a dict with key = GCN No. and value = Redshift Text.\n",
        "'''\n",
        "\n",
        "sub_df = df[['References', 'Redshift', 'GRB']].copy()\n",
        "removed_list = []\n",
        "removed_indices=[]\n",
        "gcn_format = re.compile('GCN ?\\d+( *\\(.*?\\))?')\n",
        "gcn_number_format = re.compile('GCN ?(\\d+)')\n",
        "bracket_format = re.compile(' ?\\([^)]*\\)')\n",
        "instrument_format = re.compile('\\((.*?)\\)')\n",
        "instrument_format_1 = re.compile('\\(([^):]*)')\n",
        "\n",
        "#Extract just the Redshift References from the References column\n",
        "for index, row in sub_df.iterrows():\n",
        "  row['References'] = row['References'].splitlines()\n",
        "  row['Redshift'] = row['Redshift'].splitlines()\n",
        "\n",
        "  temp=''\n",
        "  for line in row['References']: #Extract only redshift references\n",
        "    if line[0:8] == 'Redshift':\n",
        "      temp = line\n",
        "  if temp != '':\n",
        "    row['References'] = temp\n",
        "\n",
        "  if isinstance(row['References'], list): #Drop the non-uniform data for now\n",
        "    removed_list.append((row['References'], row['Redshift'], row['GRB']))\n",
        "    removed_indices.append(index)\n",
        "\n",
        "red_list = [] #List of tuples\n",
        "sub_df = sub_df.drop(removed_indices)\n",
        "\n",
        "#Create a list of tuples\n",
        "#Each tuple contains a GCN No. with it's corresponding Redshift Text and GRB Name\n",
        "for index, row in sub_df.iterrows():\n",
        "  gcn_iter = gcn_format.finditer(row['References'])\n",
        "  gcns = list(gcn_iter)\n",
        "\n",
        "  #References with only one circular don't need any further iteration\n",
        "  if len(gcns) == 1 and len(row['Redshift']) == 1:\n",
        "    gcn_num_match = gcn_number_format.search(gcns[0].group())\n",
        "\n",
        "    instrument_match = instrument_format.search(gcns[0].group())\n",
        "    instrument_match_1 = instrument_format_1.search(row['Redshift'][0])\n",
        "    instrument_name = ''\n",
        "    if instrument_match == None and instrument_match_1 == None: #Drop references with no instrument name for now\n",
        "      removed_list.append((row['References'], row['Redshift'], row['GRB']))\n",
        "      continue\n",
        "\n",
        "    elif instrument_match != None:\n",
        "      instrument_name = instrument_match.group(1)\n",
        "\n",
        "    elif instrument_match_1 != None:\n",
        "      instrument_name = instrument_match_1.group(1)\n",
        "\n",
        "    gcn_num = gcn_num_match.group(1)\n",
        "    redshift_text = bracket_format.sub('', row['Redshift'][0])\n",
        "    grb_name = row['GRB']\n",
        "\n",
        "    if len(redshift_text.split(',')) != 1: #Drop the non-uniform data for now\n",
        "      removed_list.append((row['References'], row['Redshift'], row['GRB']))\n",
        "      continue\n",
        "\n",
        "    red_list.append((gcn_num, redshift_text.strip().lower(), grb_name.strip().lower(), instrument_name.strip().lower()))\n",
        "\n",
        "  #If multiple circulars are present, iterate through them all\n",
        "  else:\n",
        "    for gcn in gcns:\n",
        "      for redshift in row['Redshift']:\n",
        "\n",
        "        #Extract instrument name from reference\n",
        "        instrument_match = instrument_format.search(gcn.group())\n",
        "        if instrument_match == None:\n",
        "          continue\n",
        "        instrument_name = instrument_match.group(1)\n",
        "\n",
        "        #Extract instrument name from redshift text\n",
        "        instrument_match_1 = instrument_format_1.search(redshift)\n",
        "        if instrument_match_1 == None:\n",
        "          continue\n",
        "        instrument_name_1 = instrument_match_1.group(1)\n",
        "\n",
        "        #Check to see if both instruments match. If yes, append tuple to list\n",
        "        if instrument_name == instrument_name_1:\n",
        "          gcn_num_match = gcn_number_format.search(gcn.group())\n",
        "          gcn_num = gcn_num_match.group(1)\n",
        "          redshift_text = bracket_format.sub('', redshift)\n",
        "          grb_name = row['GRB']\n",
        "          red_list.append((gcn_num, redshift_text.strip().lower(), grb_name.strip().lower(), instrument_name.strip().lower()))\n",
        "\n",
        "redshift_dict = {} #Dict for redshift data\n",
        "\n",
        "rem_circ = ['21209', '12542', '11997', '6651', '5946'] #Indices that need manual re-entry\n",
        "for i, tuple_ in enumerate(red_list):\n",
        "  if tuple_[0] in rem_circ:\n",
        "    removed_list.append(tuple_)\n",
        "  else:\n",
        "    redshift_dict[tuple_[0]] = (tuple_[1], tuple_[2], tuple_[3])\n",
        "\n",
        "for item in removed_list:\n",
        "  print(item)\n",
        "print(len(removed_list))\n",
        "print(len(redshift_dict))"
      ]
    },
    {
      "cell_type": "code",
      "execution_count": 58,
      "metadata": {
        "colab": {
          "base_uri": "https://localhost:8080/"
        },
        "id": "fPa6MjmnGwwt",
        "outputId": "b4450cea-ab70-486f-ab4e-082cb70fdf34"
      },
      "outputs": [
        {
          "output_type": "stream",
          "name": "stdout",
          "text": [
            "547\n"
          ]
        }
      ],
      "source": [
        "'''\n",
        "Add back removed data points after manual lookup\n",
        "'''\n",
        "\n",
        "redshift_dict['29685'] = ('1.487', '210321a', 'osiris/gtc')\n",
        "redshift_dict['18080'] = ('0.313', '150727a', 'vlt')\n",
        "redshift_dict['26538'] = ('1.19', '191221b', 'uvot')\n",
        "redshift_dict['21209'] = ('consistent with that obtained by de ugarte-postigo et al. (gcn 21177)', '170531b', 'wht')\n",
        "redshift_dict['12542'] = ('consistent with that reported by chornock et al. (gcn 12537)', '111107a', 'vlt')\n",
        "redshift_dict['11997'] = ('1.61', '110503a', 'tng')\n",
        "redshift_dict['6651'] = ('3.626', '070721b', 'vlt')\n",
        "redshift_dict['5946'] = ('0.41', '061210', 'keck')\n",
        "redshift_dict['19656'] = ('z < ~1.5', '160703a', 'uvot')\n",
        "redshift_dict['5319'] = ('z < 2.3', '060708', 'vlt')\n",
        "redshift_dict['17758'] = ('z < 3', '150424a', 'gtc')\n",
        "redshift_dict['9797'] = ('0.696 < z < 2.2', '090814a', 'vlt')\n",
        "redshift_dict['12202'] = ('1.036 < z < 2.7', '110726a', 'gemini-north')\n",
        "redshift_dict['23537'] = ('z < 2.4', '181213a', 'not')\n",
        "\n",
        "print(len(redshift_dict))"
      ]
    },
    {
      "cell_type": "code",
      "source": [
        "'''\n",
        "Augment dataset with fake data\n",
        "'''\n",
        "\n",
        "import random\n",
        "\n",
        "circular_num_format = re.compile('number\\:  (\\d+)')\n",
        "fake_circulars = []\n",
        "for circular in circulars:\n",
        "  circ_num_match = circular_num_format.search(circular)\n",
        "  if circ_num_match == None:\n",
        "    continue\n",
        "  circ_num = circ_num_match.group(1) #Extract circular number from text\n",
        "\n",
        "  if circ_num == '9797':\n",
        "    new_circ = circular.replace('0.696 < z < 2.2', '0.73 < z < 2.91')\n",
        "    new_circ = new_circ.replace('9797', '1000001')\n",
        "    fake_circulars.append(new_circ)\n",
        "    redshift_dict['1000001'] = ('0.73 < z < 2.91', '090814a', 'vlt')\n",
        "\n",
        "    new_circ = circular.replace('0.696 < z < 2.2', '1.4 < z < 3.456')\n",
        "    new_circ = new_circ.replace('9797', '1000002')\n",
        "    fake_circulars.append(new_circ)\n",
        "    redshift_dict['1000002'] = ('1.4 < z < 3.456', '090814a', 'vlt')\n",
        "\n",
        "    new_circ = circular.replace('0.696 < z < 2.2', '0.5 < z < 4.5')\n",
        "    new_circ = new_circ.replace('9797', '1000003')\n",
        "    fake_circulars.append(new_circ)\n",
        "    redshift_dict['1000003'] = ('0.5 < z < 4.5', '090814a', 'vlt')\n",
        "\n",
        "  if circ_num == '12202':\n",
        "    new_circ = circular.replace('1.036 < z < 2.7', '1.4 < z < 2.6')\n",
        "    new_circ = new_circ.replace('12202', '1000004')\n",
        "    fake_circulars.append(new_circ)\n",
        "    redshift_dict['1000004'] = ('1.4 < z < 2.6', '110726a', 'gemini-north')\n",
        "\n",
        "    new_circ = circular.replace('1.036 < z < 2.7', '0.98 < z < 3.55')\n",
        "    new_circ = new_circ.replace('12202', '1000005')\n",
        "    fake_circulars.append(new_circ)\n",
        "    redshift_dict['1000005'] = ('0.98 < z < 3.55', '110726a', 'gemini-north')\n",
        "\n",
        "    new_circ = circular.replace('1.036 < z < 2.7', '1.345 < z < 2.9')\n",
        "    new_circ = new_circ.replace('12202', '1000006')\n",
        "    fake_circulars.append(new_circ)\n",
        "    redshift_dict['1000006'] = ('1.345 < z < 2.9', '110726a', 'gemini-north')\n",
        "\n",
        "  if circ_num == '19656':\n",
        "    new_circ = circular.replace('z < ~1.5', 'z < ~3.21')\n",
        "    new_circ = new_circ.replace('19656', '1000007')\n",
        "    fake_circulars.append(new_circ)\n",
        "    redshift_dict['1000007'] = ('z < ~3.21', '160703a', 'uvot')\n",
        "\n",
        "    new_circ = circular.replace('z < ~1.5', 'z > 3.56')\n",
        "    new_circ = new_circ.replace('19656', '1000008')\n",
        "    fake_circulars.append(new_circ)\n",
        "    redshift_dict['1000008'] = ('z > 3.56', '160703a', 'uvot')\n",
        "\n",
        "    new_circ = circular.replace('z < ~1.5', 'z > ~2')\n",
        "    new_circ = new_circ.replace('19656', '1000009')\n",
        "    fake_circulars.append(new_circ)\n",
        "    redshift_dict['1000009'] = ('z > ~2', '160703a', 'uvot')\n",
        "\n",
        "  if circ_num == '5319':\n",
        "    new_circ = circular.replace('z < 2.3', 'z < 4.32')\n",
        "    new_circ = new_circ.replace('5319', '1000010')\n",
        "    fake_circulars.append(new_circ)\n",
        "    redshift_dict['1000010'] = ('z < 4.32', '060708', 'vlt')\n",
        "\n",
        "  if circ_num == '17758':\n",
        "    new_circ = circular.replace('z < 3', 'z < 1.4')\n",
        "    new_circ = new_circ.replace('17758', '1000011')\n",
        "    fake_circulars.append(new_circ)\n",
        "    redshift_dict['1000011'] = ('z < 1.4', '150424a', 'gtc')\n",
        "\n",
        "  if circ_num == '23537':\n",
        "    new_circ = circular.replace('z < 2.4', 'z < 4')\n",
        "    new_circ = new_circ.replace('23537', '1000012')\n",
        "    fake_circulars.append(new_circ)\n",
        "    redshift_dict['1000012'] = ('z < 4', '181213a', 'not')\n",
        "\n",
        "circulars.extend(fake_circulars)"
      ],
      "metadata": {
        "id": "vQbq6BThUlBd"
      },
      "execution_count": 59,
      "outputs": []
    },
    {
      "cell_type": "code",
      "execution_count": 60,
      "metadata": {
        "colab": {
          "base_uri": "https://localhost:8080/"
        },
        "id": "81Kb8lLccGN5",
        "outputId": "a8ee1a01-b2ae-4598-c3a7-99332b1c6fa9"
      },
      "outputs": [
        {
          "output_type": "stream",
          "name": "stdout",
          "text": [
            "title:   gcn circular\n",
            "number:  17093\n",
            "subject: grb 141121a: mondy optical observations\n",
            "date:    14/11/24 16:56:28 gmt\n",
            "from:    alexei pozanenko at iki, moscow  <apozanen@iki.rssi.ru>\n",
            "\n",
            "e. mazaeva (iki), e. klunko (istp), a. volnova (iki), m. eselevich \n",
            "(istp), i. korobtsev (istp), a. pozanenko (iki) report on behalf of \n",
            "larger grb follow-up collaboration:\n",
            "\n",
            "we observed the field of grb 141121a (lien et al., gcn 17075) with \n",
            "azt-33ik telescope of sayan observatory (mondy) on nov., 23  starting on \n",
            "(ut) 20:57:39.  we obtained several  images in r-filter. in a combined \n",
            "image we clearly  detect optical  afterglow (tanga et al., gcn 17078; \n",
            "perley et al., gcn 17081).\n",
            "\n",
            "a preliminary photometry is based on nearby sdss  stars:\n",
            "\n",
            "date       ut start   t-t0     filter   exp.    ot    ot_err\n",
            "                               (mid, days)       (s)\n",
            "\n",
            "2014-11-23 20:57:39   2.74025  r        39*120  20.53 0.04\n",
            "\n",
            "we confirm re-brightening of the afterglow reported early (watson et al. \n",
            "gcn 17090; kuroda et al. gcn  17091; dichiara  et al. gcn 17092).\n",
            "\n",
            "\n"
          ]
        }
      ],
      "source": [
        "print(circulars[0])"
      ]
    },
    {
      "cell_type": "code",
      "execution_count": 129,
      "metadata": {
        "colab": {
          "base_uri": "https://localhost:8080/"
        },
        "id": "k7vunzwAX_NS",
        "outputId": "c012ced5-e0d8-4f9e-c5d2-15df0e0134c5"
      },
      "outputs": [
        {
          "output_type": "stream",
          "name": "stdout",
          "text": [
            "Current no. of data points: 1671\n",
            "Question: what is the redshift value?\n",
            "Context: title:   gcn grb observation report\n",
            "number:  5052\n",
            "subject: grb060502: gemini spectroscopy\n",
            "date:    06/05/02 10:13:13 gmt\n",
            "from:    antonino cucchiara at psu  <cucchiara@astro.psu.edu>\n",
            "\n",
            "a. cucchiara (penn state), p.a. price (ifa, hawaii), d.b. fox, (penn\n",
            "state), s.b. cenko (srl, caltech) and b.p. schmidt (rsaa, anu) report on\n",
            "behalf of a larger collaboration:\n",
            "\n",
            "we have observed the optical afterglow of grb 060502 (la parola et al., \n",
            "gcn  5047, cenko et al., 5048)\n",
            "with the gmos instrument on gemini north telescope.  observations \n",
            "consisted of 2 x\n",
            "1800 sec exposures with the r400 grating, commencing at 2006 may 2.34\n",
            "utc.  in the summed spectrum, we identify an absorption system\n",
            "consisting of fe ii, mg ii and mg i at a redshift of z ~ 1.51.  no other\n",
            "absorption or emission line systems are apparent.\n",
            " \n",
            "\n",
            "we acknowledge the rapid response effort of gemini personnel that\n",
            "yielded these data.\n",
            "\n",
            "\n",
            "Answer: ~1.51\n",
            "Question 2: what is the grb name?\n",
            "Answer 2: 060502a\n",
            "Question 3: what is the name of the telescope used?\n",
            "Answer 3: gemini\n"
          ]
        }
      ],
      "source": [
        "'''\n",
        "Create a list for our features.\n",
        "Each element in the list shall be a tuple.\n",
        "The first element will be the question.\n",
        "The second element of the tuple will be the circular text.\n",
        "The third element will the the answer text supposedly contained in the circular.\n",
        "The fourth element will be the question: \"what is the name of the grb?\"\n",
        "'''\n",
        "\n",
        "context_test = ''\n",
        "data = [] #List of tuples\n",
        "circular_num_format = re.compile('number\\:  (\\d+)')\n",
        "\n",
        "for circular in circulars:\n",
        "  circ_num_match = circular_num_format.search(circular)\n",
        "  if circ_num_match == None:\n",
        "    continue\n",
        "  circ_num = circ_num_match.group(1) #Extract circular number from text\n",
        "  if circ_num == '1000012':\n",
        "    context_test = circular\n",
        "  #Find corresponding circular number in redshift dict\n",
        "  #Append its redshift value, along with the GCN text to our data list\n",
        "  for key in redshift_dict.keys():\n",
        "    if circ_num == key:\n",
        "      data.append(('what is the redshift value?', circular, redshift_dict[key][0]))\n",
        "      data.append(('what is the grb name?', circular, redshift_dict[key][1]))\n",
        "      data.append(('what is the name of the telescope used?', circular, redshift_dict[key][2]))\n",
        "      break\n",
        "\n",
        "print(f\"Current no. of data points: {len(data)}\")\n",
        "print(f\"Question: {data[0][0]}\")\n",
        "print(f\"Context: {data[0][1]}\")\n",
        "print(f\"Answer: {data[0][2]}\")\n",
        "print(f\"Question 2: {data[1][0]}\")\n",
        "print(f\"Answer 2: {data[1][2]}\")\n",
        "print(f\"Question 3: {data[2][0]}\")\n",
        "print(f\"Answer 3: {data[2][2]}\")"
      ]
    },
    {
      "cell_type": "code",
      "source": [
        "print(context_test)"
      ],
      "metadata": {
        "colab": {
          "base_uri": "https://localhost:8080/"
        },
        "id": "d-0QJhXArDyj",
        "outputId": "a652a286-2db9-409c-e06c-0bac0bea672d"
      },
      "execution_count": 130,
      "outputs": [
        {
          "output_type": "stream",
          "name": "stdout",
          "text": [
            "title:   gcn circular\n",
            "number:  1000012\n",
            "subject: grb 181213a: not optical observations\n",
            "date:    18/12/14 10:01:41 gmt\n",
            "from:    kasper elm heintz at univ. of iceland and dawn/nbi  <keh14@hi.is>\n",
            "\n",
            "k. e. heintz (univ. of iceland), d. b. malesani (dawn/nbi/dtu and dark/nbi), j. p. u. fynbo (dawn/nbi/dtu), a. de ugarte postigo (heth/iaa-csic and dark/nbi), l. balaguer-nuã±ez, j. carbajo (dept. fqa, univ. de barcelona), f. galindo and c. perez (not), report on behalf of a larger collaboration:\n",
            "\n",
            "we observed the optical afterglow (lipunov et al., gcn 23526; hu et al., gcn 23527; siegel et al., gcn 23529; belkin et al., gcn 23530) of grb 181213a (evans et al., gcn 23525) with the 2.5-m nordic optical telescope (not) equipped with alfosc.\n",
            "\n",
            "spectroscopy was secured: we obtained 4x900s exposures using grism 4 (with a wavelength coverage from 350 to 900 nm) starting at 23:27:14 ut on december 13 (i.e. 10.5 hr after trigger). the observations were obtained at a seeing around 1â but at an airmass > 3. from the acquisition image taken without filter we measure r = 20.6 +/- 0.2 ab mag, calibrated against sdss r-band pan-starrs local photometry. the combined spectrum shows a low-s/n, mostly featureless continuum. based on the detected continuum down to 415 nm we infer an upper limit on the redshift for the grb of z < 4.\n",
            "\n",
            "\n"
          ]
        }
      ]
    },
    {
      "cell_type": "code",
      "source": [
        "# '''\n",
        "# Add data points where no answer is expected\n",
        "# '''\n",
        "\n",
        "# for circular in circulars[:500]:\n",
        "#   circ_num_match = circular_num_format.search(circular)\n",
        "#   if circ_num_match == None:\n",
        "#     continue\n",
        "#   circ_num = circ_num_match.group(1) #Extract circular number from text\n",
        "\n",
        "#   #Find corresponding circular number in redshift dict\n",
        "#   #Append its redshift value, along with the GCN text to our data list\n",
        "#   if circ_num not in redshift_dict.keys():\n",
        "#     if circular.find('redshift') == -1:\n",
        "#       data.append(('what is the redshift value?', circular, ''))\n",
        "#       print(data[-1])"
      ],
      "metadata": {
        "id": "MU8nZX1hwMdr"
      },
      "execution_count": 63,
      "outputs": []
    },
    {
      "cell_type": "code",
      "execution_count": 64,
      "metadata": {
        "colab": {
          "base_uri": "https://localhost:8080/"
        },
        "id": "PiF-lIiKxhSx",
        "outputId": "7f96f99a-b1a7-4b60-82bc-3b8cc84c7137"
      },
      "outputs": [
        {
          "output_type": "stream",
          "name": "stdout",
          "text": [
            "Previous no. of data points: 1671\n",
            "No. of points to be removed: 98\n",
            "Final no. of data points: 1573\n"
          ]
        }
      ],
      "source": [
        "'''\n",
        "Make sure the redshift text is actually in the circulars\n",
        "'''\n",
        "del_list = []\n",
        "del_idx = []\n",
        "for i, tuple_ in enumerate(data):\n",
        "  if tuple_[2] not in tuple_[1]:\n",
        "    del_list.append(tuple_)\n",
        "    del_idx.append(i)\n",
        "\n",
        "print(f\"Previous no. of data points: {len(data)}\")\n",
        "print(f\"No. of points to be removed: {len(del_list)}\")\n",
        "data = [tuple_ for i,tuple_ in enumerate(data) if i not in del_idx]\n",
        "print(f\"Final no. of data points: {len(data)}\")"
      ]
    },
    {
      "cell_type": "code",
      "execution_count": 65,
      "metadata": {
        "id": "uC67HDVma4oo"
      },
      "outputs": [],
      "source": [
        "'''\n",
        "Write data to csv file.\n",
        "'''\n",
        "\n",
        "data = [(index, *row) for index, row in enumerate(data)]\n",
        "with open('preprocessed_redshift_data.csv', 'w') as f:\n",
        "    writer = csv.writer(f)\n",
        "    writer.writerow(['id', 'question', 'context', 'answer'])\n",
        "    writer.writerows(data)"
      ]
    },
    {
      "cell_type": "markdown",
      "metadata": {
        "id": "8uxSdaZiJZ53"
      },
      "source": [
        "#Step 3: Fine-Tuning our Model"
      ]
    },
    {
      "cell_type": "code",
      "execution_count": 66,
      "metadata": {
        "colab": {
          "base_uri": "https://localhost:8080/"
        },
        "id": "qgRMqRFvJmiy",
        "outputId": "b95c4e97-1c33-46bc-ad12-f4597fa05095"
      },
      "outputs": [
        {
          "output_type": "stream",
          "name": "stdout",
          "text": [
            "Requirement already satisfied: transformers in /usr/local/lib/python3.10/dist-packages (4.33.1)\n",
            "Requirement already satisfied: datasets in /usr/local/lib/python3.10/dist-packages (2.14.5)\n",
            "Requirement already satisfied: evaluate in /usr/local/lib/python3.10/dist-packages (0.4.0)\n",
            "Requirement already satisfied: accelerate in /usr/local/lib/python3.10/dist-packages (0.23.0)\n",
            "Requirement already satisfied: filelock in /usr/local/lib/python3.10/dist-packages (from transformers) (3.12.2)\n",
            "Requirement already satisfied: huggingface-hub<1.0,>=0.15.1 in /usr/local/lib/python3.10/dist-packages (from transformers) (0.17.1)\n",
            "Requirement already satisfied: numpy>=1.17 in /usr/local/lib/python3.10/dist-packages (from transformers) (1.23.5)\n",
            "Requirement already satisfied: packaging>=20.0 in /usr/local/lib/python3.10/dist-packages (from transformers) (23.1)\n",
            "Requirement already satisfied: pyyaml>=5.1 in /usr/local/lib/python3.10/dist-packages (from transformers) (6.0.1)\n",
            "Requirement already satisfied: regex!=2019.12.17 in /usr/local/lib/python3.10/dist-packages (from transformers) (2023.6.3)\n",
            "Requirement already satisfied: requests in /usr/local/lib/python3.10/dist-packages (from transformers) (2.31.0)\n",
            "Requirement already satisfied: tokenizers!=0.11.3,<0.14,>=0.11.1 in /usr/local/lib/python3.10/dist-packages (from transformers) (0.13.3)\n",
            "Requirement already satisfied: safetensors>=0.3.1 in /usr/local/lib/python3.10/dist-packages (from transformers) (0.3.3)\n",
            "Requirement already satisfied: tqdm>=4.27 in /usr/local/lib/python3.10/dist-packages (from transformers) (4.66.1)\n",
            "Requirement already satisfied: pyarrow>=8.0.0 in /usr/local/lib/python3.10/dist-packages (from datasets) (9.0.0)\n",
            "Requirement already satisfied: dill<0.3.8,>=0.3.0 in /usr/local/lib/python3.10/dist-packages (from datasets) (0.3.7)\n",
            "Requirement already satisfied: pandas in /usr/local/lib/python3.10/dist-packages (from datasets) (1.5.3)\n",
            "Requirement already satisfied: xxhash in /usr/local/lib/python3.10/dist-packages (from datasets) (3.3.0)\n",
            "Requirement already satisfied: multiprocess in /usr/local/lib/python3.10/dist-packages (from datasets) (0.70.15)\n",
            "Requirement already satisfied: fsspec[http]<2023.9.0,>=2023.1.0 in /usr/local/lib/python3.10/dist-packages (from datasets) (2023.6.0)\n",
            "Requirement already satisfied: aiohttp in /usr/local/lib/python3.10/dist-packages (from datasets) (3.8.5)\n",
            "Requirement already satisfied: responses<0.19 in /usr/local/lib/python3.10/dist-packages (from evaluate) (0.18.0)\n",
            "Requirement already satisfied: psutil in /usr/local/lib/python3.10/dist-packages (from accelerate) (5.9.5)\n",
            "Requirement already satisfied: torch>=1.10.0 in /usr/local/lib/python3.10/dist-packages (from accelerate) (2.0.1+cu118)\n",
            "Requirement already satisfied: attrs>=17.3.0 in /usr/local/lib/python3.10/dist-packages (from aiohttp->datasets) (23.1.0)\n",
            "Requirement already satisfied: charset-normalizer<4.0,>=2.0 in /usr/local/lib/python3.10/dist-packages (from aiohttp->datasets) (3.2.0)\n",
            "Requirement already satisfied: multidict<7.0,>=4.5 in /usr/local/lib/python3.10/dist-packages (from aiohttp->datasets) (6.0.4)\n",
            "Requirement already satisfied: async-timeout<5.0,>=4.0.0a3 in /usr/local/lib/python3.10/dist-packages (from aiohttp->datasets) (4.0.3)\n",
            "Requirement already satisfied: yarl<2.0,>=1.0 in /usr/local/lib/python3.10/dist-packages (from aiohttp->datasets) (1.9.2)\n",
            "Requirement already satisfied: frozenlist>=1.1.1 in /usr/local/lib/python3.10/dist-packages (from aiohttp->datasets) (1.4.0)\n",
            "Requirement already satisfied: aiosignal>=1.1.2 in /usr/local/lib/python3.10/dist-packages (from aiohttp->datasets) (1.3.1)\n",
            "Requirement already satisfied: typing-extensions>=3.7.4.3 in /usr/local/lib/python3.10/dist-packages (from huggingface-hub<1.0,>=0.15.1->transformers) (4.5.0)\n",
            "Requirement already satisfied: idna<4,>=2.5 in /usr/local/lib/python3.10/dist-packages (from requests->transformers) (3.4)\n",
            "Requirement already satisfied: urllib3<3,>=1.21.1 in /usr/local/lib/python3.10/dist-packages (from requests->transformers) (2.0.4)\n",
            "Requirement already satisfied: certifi>=2017.4.17 in /usr/local/lib/python3.10/dist-packages (from requests->transformers) (2023.7.22)\n",
            "Requirement already satisfied: sympy in /usr/local/lib/python3.10/dist-packages (from torch>=1.10.0->accelerate) (1.12)\n",
            "Requirement already satisfied: networkx in /usr/local/lib/python3.10/dist-packages (from torch>=1.10.0->accelerate) (3.1)\n",
            "Requirement already satisfied: jinja2 in /usr/local/lib/python3.10/dist-packages (from torch>=1.10.0->accelerate) (3.1.2)\n",
            "Requirement already satisfied: triton==2.0.0 in /usr/local/lib/python3.10/dist-packages (from torch>=1.10.0->accelerate) (2.0.0)\n",
            "Requirement already satisfied: cmake in /usr/local/lib/python3.10/dist-packages (from triton==2.0.0->torch>=1.10.0->accelerate) (3.27.4.1)\n",
            "Requirement already satisfied: lit in /usr/local/lib/python3.10/dist-packages (from triton==2.0.0->torch>=1.10.0->accelerate) (16.0.6)\n",
            "Requirement already satisfied: python-dateutil>=2.8.1 in /usr/local/lib/python3.10/dist-packages (from pandas->datasets) (2.8.2)\n",
            "Requirement already satisfied: pytz>=2020.1 in /usr/local/lib/python3.10/dist-packages (from pandas->datasets) (2023.3.post1)\n",
            "Requirement already satisfied: six>=1.5 in /usr/local/lib/python3.10/dist-packages (from python-dateutil>=2.8.1->pandas->datasets) (1.16.0)\n",
            "Requirement already satisfied: MarkupSafe>=2.0 in /usr/local/lib/python3.10/dist-packages (from jinja2->torch>=1.10.0->accelerate) (2.1.3)\n",
            "Requirement already satisfied: mpmath>=0.19 in /usr/local/lib/python3.10/dist-packages (from sympy->torch>=1.10.0->accelerate) (1.3.0)\n"
          ]
        }
      ],
      "source": [
        "'''\n",
        "Download and import necessary Huggingface libraries.\n",
        "'''\n",
        "\n",
        "!pip install transformers datasets evaluate accelerate\n",
        "\n",
        "from datasets import load_dataset\n",
        "from transformers import AutoTokenizer\n",
        "from transformers import DefaultDataCollator\n",
        "from transformers import AutoModelForQuestionAnswering, TrainingArguments, Trainer\n",
        "from transformers import pipeline\n",
        "import evaluate\n",
        "from tqdm.auto import tqdm\n",
        "import numpy as np\n",
        "import collections"
      ]
    },
    {
      "cell_type": "code",
      "execution_count": 67,
      "metadata": {
        "colab": {
          "base_uri": "https://localhost:8080/",
          "height": 356,
          "referenced_widgets": [
            "6da87855063c414e9302c0ee2e17e92c",
            "f88e18ab673a435196cdb384ad7937d7",
            "fb2a157020654633896187d72f48c309",
            "d7dea8b3e020425bbc6b8ed78a5b7a4e",
            "afa30263aa24497594fcc72055459a90",
            "a14e9e59f5b7464c9403688d06240495",
            "2cba3d708c044f32800fe9e40b765499",
            "896e65c9e97e40f488ca4a9de1e263f6",
            "9657c34bd06d4f148f7c503fe63df308",
            "008f1a81856846d2be8b124501175603",
            "96e29ca9df564f95872983f8c9b9819b",
            "8e5331f9c0b74cca856ba9ec0d6ec6ef",
            "c5d0800bb8d24a97918d2e5b9aa4c13a",
            "3a7c2b49b48240deaa2186ab9883c931",
            "b67d2e1fb192458a8dc0efc375025bfd",
            "e4bf59958dd84b599becf7a6544b88fa",
            "11cb1fda6fe64435a3e7a89c96972b84",
            "5943427babcc4ab78e143621d9dd5b72",
            "c3454243667f4cc692aa8d7600c53c82",
            "407b1cafd754436ba5aae17b540aaf6b",
            "41eeb355a99b46bda3c624884e369208",
            "438a2abebac548ce868847bc029e7576",
            "5e74d84b0e1749a7a1d47ff9de9c78af",
            "a3257c511e3b4453ae9f3851f5a6f095",
            "e365be1830e34433be408e2f144c4ac6",
            "34972fed81d141c38bb9dc10b0e713df",
            "d21f3e7684c240d68f0b16df0c525cdd",
            "7d01660b43cb4dbea30cb234ed5c59c1",
            "c42ff263838c4cc399055cc3e8013e7d",
            "3521382b958042fdb1094ba90a39ca6a",
            "c04450875f42410e9fd3f25a01e9aab4",
            "b96f9fed657b401d87ea9f41a6235c7e",
            "46d2259fdf68483bb882edc4c255fe69"
          ]
        },
        "id": "lfImM_cRg89r",
        "outputId": "4744ace7-159b-44cb-9a4c-794fd49b399e"
      },
      "outputs": [
        {
          "output_type": "display_data",
          "data": {
            "text/plain": [
              "Downloading data files:   0%|          | 0/1 [00:00<?, ?it/s]"
            ],
            "application/vnd.jupyter.widget-view+json": {
              "version_major": 2,
              "version_minor": 0,
              "model_id": "6da87855063c414e9302c0ee2e17e92c"
            }
          },
          "metadata": {}
        },
        {
          "output_type": "display_data",
          "data": {
            "text/plain": [
              "Extracting data files:   0%|          | 0/1 [00:00<?, ?it/s]"
            ],
            "application/vnd.jupyter.widget-view+json": {
              "version_major": 2,
              "version_minor": 0,
              "model_id": "8e5331f9c0b74cca856ba9ec0d6ec6ef"
            }
          },
          "metadata": {}
        },
        {
          "output_type": "display_data",
          "data": {
            "text/plain": [
              "Generating train split: 0 examples [00:00, ? examples/s]"
            ],
            "application/vnd.jupyter.widget-view+json": {
              "version_major": 2,
              "version_minor": 0,
              "model_id": "5e74d84b0e1749a7a1d47ff9de9c78af"
            }
          },
          "metadata": {}
        },
        {
          "output_type": "execute_result",
          "data": {
            "text/plain": [
              "DatasetDict({\n",
              "    train: Dataset({\n",
              "        features: ['id', 'question', 'context', 'answer'],\n",
              "        num_rows: 1258\n",
              "    })\n",
              "    validation: Dataset({\n",
              "        features: ['id', 'question', 'context', 'answer'],\n",
              "        num_rows: 157\n",
              "    })\n",
              "    test: Dataset({\n",
              "        features: ['id', 'question', 'context', 'answer'],\n",
              "        num_rows: 158\n",
              "    })\n",
              "})"
            ]
          },
          "metadata": {},
          "execution_count": 67
        }
      ],
      "source": [
        "'''\n",
        "Create a Huggingface DatasetDict object to store the training, validation and test sets.\n",
        "We use a 80/10/10 split.\n",
        "Fixed seed is used for reproducibility.\n",
        "'''\n",
        "\n",
        "dataset = load_dataset(\"csv\", data_files=\"preprocessed_redshift_data.csv\", split='train[:]')\n",
        "dataset = dataset.train_test_split(test_size=0.2, seed=42)\n",
        "temp_dataset = dataset.pop(\"test\")\n",
        "temp_dict = temp_dataset.train_test_split(test_size=0.5, seed=42)\n",
        "dataset[\"validation\"] = temp_dict[\"train\"]\n",
        "dataset[\"test\"] = temp_dict[\"test\"]\n",
        "dataset"
      ]
    },
    {
      "cell_type": "code",
      "execution_count": 68,
      "metadata": {
        "colab": {
          "base_uri": "https://localhost:8080/"
        },
        "id": "WxGeMrBOdcdK",
        "outputId": "fe7f7456-dd94-41aa-ffc1-412ea5ad966f"
      },
      "outputs": [
        {
          "output_type": "execute_result",
          "data": {
            "text/plain": [
              "{'id': 53,\n",
              " 'question': 'what is the name of the telescope used?',\n",
              " 'context': 'title:   gcn circular\\nnumber:  14291\\nsubject: grb 100424a: keck host detection and vlt/x-shooter redshift\\ndate:    13/03/12 16:07:54 gmt\\nfrom:    daniele malesani at dark cosmology centre, niels bohr inst  <malesani@dark-cosmology.dk>\\n\\nd. malesani, d. xu, j. p. u. fynbo, t. kruehler (dark/nbi), d. a. perley \\n(caltech), s. d. vergani (cnrs/gepi), p. goldoni (apc/irfu-cea), report \\non behalf of the grb gto x-shooter collaboration:\\n\\nwe observed the field of grb 100424a (hoversten et al., gcn 10667) using \\nthe keck-i telescope equipped with the lris instrument. observations \\nwere carried out on 2010 july 8.2 ut (74.5 days after the burst), \\nsimultaneously in the g and i bands, for a total exposure time of 35 and \\n32 min, respectively.\\n\\nconsistent with the position of the nir afterglow (cenko et al., gcns \\n10682, 10690, 10692), we detected a source with g = 26 (ab) and i = 24.4 \\n(vega). we consider this object to be the host galaxy of grb 100424a.\\n\\na spectrum of this source was taken on 2013 march 11.3 ut with the eso \\nvlt equipped with the x-shooter spectrograph, covering the wavelength \\nrange 3000-25000 aa. the exposure time was 8x600 s. in the nir arm, we \\ndetect four emission lines, that we interpret as [o iii](4959), [o \\niii](5007), hbeta, and [o ii](3727), all at a common redshift of z = \\n2.465. in the uvb arm, we also detect weak lyalpha in emission at the \\nsame redshift.\\n\\nwe acknowledge excellent support from the observing staff at mauna kea \\nand paranal, in particular thomas rivinius and claudio melo.\\n\\n',\n",
              " 'answer': 'vlt'}"
            ]
          },
          "metadata": {},
          "execution_count": 68
        }
      ],
      "source": [
        "dataset[\"train\"][0]"
      ]
    },
    {
      "cell_type": "code",
      "execution_count": 69,
      "metadata": {
        "colab": {
          "base_uri": "https://localhost:8080/"
        },
        "id": "h5cYVVKfonEQ",
        "outputId": "d7045863-8e95-4eb7-d091-b57147ca5093"
      },
      "outputs": [
        {
          "output_type": "execute_result",
          "data": {
            "text/plain": [
              "{'id': 1155,\n",
              " 'question': 'what is the grb name?',\n",
              " 'context': 'title:   gcn circular\\nnumber:  6202\\nsubject: grb 070306: possible emission-line redshift\\ndate:    07/03/12 20:37:34 gmt\\nfrom:    andreas o. jaunsen at ita/u oslo  <ajaunsen@astro.uio.no>\\n\\na.o. jaunsen (univ. oslo), c.c. thoene, j.p.u. fynbo, j. hjorth (dark/ \\nnbi),\\np. vreeswijk (eso) report on behalf of a larger collaboration.\\n\\nwe observed the field of grb 070306 (pandey et al., gcn 6169 & gcn  \\nreport 38.1)\\nwith the eso/vlt equipped with fors2. observations started on 2007  \\nmar 08.11 ut\\n(about 34 hr after the grb) and three 1800-s spectra were acquired  \\nwith the\\n300v grism covering a wavelength range of 3500-9500a.\\n\\nthe spectrum consists of a largely featureless continuum from about  \\n4000-9400a\\nwith the exception of an apparent emission line at ~9310a. the  \\nemission-line\\nis very close to the prominent telluric skyline at 9313a, but is seen  \\nin each\\nof the three individual spectra. the lack of other detected lines in the\\nobserved wavelength range suggests that the emission line is due to  \\n[o ii] at\\na red-shift of z=1.497. it should be cautioned, however, that this  \\nhost galaxy\\nappears to be highly reddened (as already noted by rol et al., gcn  \\n6174), which\\ncould have an unforeseen suppression-effect on the bluer part of the  \\nspectrum.\\n\\nwe acknowledge the excellent support from the eso/paranal staff.\\n\\n',\n",
              " 'answer': '070306'}"
            ]
          },
          "metadata": {},
          "execution_count": 69
        }
      ],
      "source": [
        "dataset[\"validation\"][0]"
      ]
    },
    {
      "cell_type": "code",
      "execution_count": 70,
      "metadata": {
        "colab": {
          "base_uri": "https://localhost:8080/"
        },
        "id": "wY-o7JqYdkOg",
        "outputId": "9c4fbb04-ad82-4cf1-ff38-09164191d935"
      },
      "outputs": [
        {
          "output_type": "execute_result",
          "data": {
            "text/plain": [
              "{'id': 593,\n",
              " 'question': 'what is the redshift value?',\n",
              " 'context': 'title:   gcn circular\\nnumber:  11230\\nsubject: grb 100906a: gemini-n/gmos redshift\\ndate:    10/09/06 15:15:39 gmt\\nfrom:    nial tanvir at u.leicester  <nrt3@star.le.ac.uk>\\n\\nn. r. tanvir, k. wiersema (u. leicester) and a. j. levan (u. warwick)\\nreport on behalf of a larger collaboration:\\n\\nwe observed the location of grb 100906a (markwardt et al. gcn 11227;\\nivanov et al. gcn 11228; melandri et al. gcn 11229) with\\nthe gemini-north telescope on mauna kea using the gmos spectrograph.\\nobservations began at 14:30 ut, approximately 40 minutes post burst.\\n\\nwe detect strong continuum from the afterglow, and identify numerous\\nabsorption lines, including civ (1458, 1551a), feii (2344, 2374, 2383a)\\nat a common redshift of z=1.727.\\n\\nfurther analysis is ongoing.\\n\\nwe acknowledge the support of chad trujillo in obtaining these observations.\\n\\n\\n\\n\\n\\n',\n",
              " 'answer': '1.727'}"
            ]
          },
          "metadata": {},
          "execution_count": 70
        }
      ],
      "source": [
        "dataset[\"test\"][0]"
      ]
    },
    {
      "cell_type": "code",
      "execution_count": 71,
      "metadata": {
        "id": "TAtIbBxQpadp"
      },
      "outputs": [],
      "source": [
        "'''\n",
        "Here is where we select the model and tokenizer to be used for question answering.\n",
        "The checkpoint name is the name of the model as stored in the Huggingface Model Hub.\n",
        "'''\n",
        "\n",
        "checkpoint = \"deepset/deberta-v3-base-squad2\"\n",
        "tokenizer = AutoTokenizer.from_pretrained(checkpoint)\n",
        "model = AutoModelForQuestionAnswering.from_pretrained(checkpoint)"
      ]
    },
    {
      "cell_type": "code",
      "execution_count": 72,
      "metadata": {
        "colab": {
          "base_uri": "https://localhost:8080/",
          "height": 35
        },
        "id": "tgaOOfrqtdXT",
        "outputId": "450c311f-a2db-42cd-f8a7-fccb4479d204"
      },
      "outputs": [
        {
          "output_type": "execute_result",
          "data": {
            "text/plain": [
              "'070306'"
            ],
            "application/vnd.google.colaboratory.intrinsic+json": {
              "type": "string"
            }
          },
          "metadata": {},
          "execution_count": 72
        }
      ],
      "source": [
        "'''\n",
        "Lets get some preliminary inferences to see how the model performs before training.\n",
        "We'll use an example from the test set.\n",
        "'''\n",
        "\n",
        "question = dataset[\"validation\"][0][\"question\"]\n",
        "context = dataset[\"validation\"][0][\"context\"]\n",
        "answer = dataset[\"validation\"][0][\"answer\"]\n",
        "answer #Real answer"
      ]
    },
    {
      "cell_type": "code",
      "execution_count": 73,
      "metadata": {
        "colab": {
          "base_uri": "https://localhost:8080/"
        },
        "id": "DCL51HIqv01u",
        "outputId": "f4b9f5ee-74d6-4c4f-c02c-9f3facea6ab0"
      },
      "outputs": [
        {
          "output_type": "execute_result",
          "data": {
            "text/plain": [
              "{'score': 0.044039852917194366,\n",
              " 'start': 354,\n",
              " 'end': 365,\n",
              " 'answer': ' grb 070306'}"
            ]
          },
          "metadata": {},
          "execution_count": 73
        }
      ],
      "source": [
        "question_answerer = pipeline(\"question-answering\", model=model, tokenizer=tokenizer)\n",
        "question_answerer(question=question, context=context) #Predicted answer"
      ]
    },
    {
      "cell_type": "markdown",
      "metadata": {
        "id": "0MBOZ3WVySLK"
      },
      "source": [
        "Now let's evaluate the model's performance on our validation set before fine-tuning it."
      ]
    },
    {
      "cell_type": "code",
      "execution_count": 74,
      "metadata": {
        "id": "vsfahVwM481q"
      },
      "outputs": [],
      "source": [
        "'''\n",
        "We start by preprocessing the validation data.\n",
        "Code adapted from Huggingface NLP course page on Question Answering\n",
        "'''\n",
        "\n",
        "def preprocess_validation_examples(examples):\n",
        "    inputs = tokenizer(\n",
        "        examples[\"question\"],\n",
        "        examples[\"context\"],\n",
        "        max_length=384,\n",
        "        truncation=\"only_second\",\n",
        "        stride=128,\n",
        "        return_overflowing_tokens=True,\n",
        "        return_offsets_mapping=True,\n",
        "        padding=\"max_length\",\n",
        "    )\n",
        "\n",
        "    sample_map = inputs.pop(\"overflow_to_sample_mapping\")\n",
        "    example_ids = []\n",
        "\n",
        "    for i in range(len(inputs[\"input_ids\"])):\n",
        "        sample_idx = sample_map[i]\n",
        "        example_ids.append(examples[\"id\"][sample_idx])\n",
        "\n",
        "        sequence_ids = inputs.sequence_ids(i)\n",
        "        offset = inputs[\"offset_mapping\"][i]\n",
        "        inputs[\"offset_mapping\"][i] = [\n",
        "            o if sequence_ids[k] == 1 else None for k, o in enumerate(offset)\n",
        "        ]\n",
        "\n",
        "    inputs[\"example_id\"] = example_ids\n",
        "    return inputs"
      ]
    },
    {
      "cell_type": "code",
      "execution_count": 75,
      "metadata": {
        "colab": {
          "base_uri": "https://localhost:8080/",
          "height": 49,
          "referenced_widgets": [
            "470dce56113f4d17b4d9fb5d76ec0774",
            "91cbf4d95c5247aaaa3befb21dda62c4",
            "eaa8ad753da840e3804aaa79e5f2c241",
            "018ef82d235e43b19456277fd1879eac",
            "88a29eb934364973a7644a55e2e71f97",
            "1af0c0a9c481402b9fc0e820b32c73e8",
            "b70f03000cae4cd290e6d05083ac31ce",
            "704acb4e6c364bf4a2fc01be6219ee6b",
            "45d2384321524a04aa5a2903fa1289cf",
            "229884d71b8842929e93189fc9ff8f0d",
            "04dba02883f14a3395c0adb7e3803ff7"
          ]
        },
        "id": "LmpFRD327CbO",
        "outputId": "20dbbd54-8956-461f-f4d4-b80fb31cb2ab"
      },
      "outputs": [
        {
          "output_type": "display_data",
          "data": {
            "text/plain": [
              "Map:   0%|          | 0/157 [00:00<?, ? examples/s]"
            ],
            "application/vnd.jupyter.widget-view+json": {
              "version_major": 2,
              "version_minor": 0,
              "model_id": "470dce56113f4d17b4d9fb5d76ec0774"
            }
          },
          "metadata": {}
        }
      ],
      "source": [
        "'''\n",
        "Apply the above preprocessing function to the whole validation set using map()\n",
        "'''\n",
        "\n",
        "validation_dataset = dataset[\"validation\"].map(\n",
        "    preprocess_validation_examples,\n",
        "    batched=True,\n",
        "    remove_columns=dataset[\"validation\"].column_names,\n",
        ")"
      ]
    },
    {
      "cell_type": "code",
      "execution_count": 76,
      "metadata": {
        "id": "C4JhRiAE0gGV"
      },
      "outputs": [],
      "source": [
        "# '''\n",
        "# Remove extra columns and plug dataset into model to get output logits.\n",
        "# '''\n",
        "\n",
        "# eval_set_for_model = validation_dataset.remove_columns([\"example_id\", \"offset_mapping\"])\n",
        "# eval_set_for_model.set_format(\"torch\")\n",
        "\n",
        "# batch = {k: eval_set_for_model[k] for k in eval_set_for_model.column_names}\n",
        "\n",
        "# with torch.no_grad():\n",
        "#     outputs = model(**batch)\n",
        "\n",
        "# start_logits = outputs.start_logits.cpu().numpy()\n",
        "# end_logits = outputs.end_logits.cpu().numpy()"
      ]
    },
    {
      "cell_type": "code",
      "execution_count": 77,
      "metadata": {
        "id": "XyXs6qad4JZG"
      },
      "outputs": [],
      "source": [
        "'''\n",
        "The compute_metrics() function will compute the f1 and exact match score for a model\n",
        "'''\n",
        "\n",
        "def compute_metrics(start_logits, end_logits, features, examples):\n",
        "    metric = evaluate.load(\"squad\")\n",
        "    n_best = 20\n",
        "    max_answer_length = 30\n",
        "    example_to_features = collections.defaultdict(list)\n",
        "    for idx, feature in enumerate(features):\n",
        "        example_to_features[feature[\"example_id\"]].append(idx)\n",
        "\n",
        "    predicted_answers = []\n",
        "    for example in tqdm(examples):\n",
        "        example_id = example[\"id\"]\n",
        "        context = example[\"context\"]\n",
        "        answers = []\n",
        "\n",
        "        # Loop through all features associated with that example\n",
        "        for feature_index in example_to_features[example_id]:\n",
        "            start_logit = start_logits[feature_index]\n",
        "            end_logit = end_logits[feature_index]\n",
        "            offsets = features[feature_index][\"offset_mapping\"]\n",
        "\n",
        "            start_indexes = np.argsort(start_logit)[-1 : -n_best - 1 : -1].tolist()\n",
        "            end_indexes = np.argsort(end_logit)[-1 : -n_best - 1 : -1].tolist()\n",
        "            for start_index in start_indexes:\n",
        "                for end_index in end_indexes:\n",
        "                    # Skip answers that are not fully in the context\n",
        "                    if offsets[start_index] is None or offsets[end_index] is None:\n",
        "                        continue\n",
        "                    # Skip answers with a length that is either < 0 or > max_answer_length\n",
        "                    if (\n",
        "                        end_index < start_index\n",
        "                        or end_index - start_index + 1 > max_answer_length\n",
        "                    ):\n",
        "                        continue\n",
        "\n",
        "                    answer = {\n",
        "                        \"text\": context[offsets[start_index][0] : offsets[end_index][1]],\n",
        "                        \"logit_score\": start_logit[start_index] + end_logit[end_index],\n",
        "                    }\n",
        "                    answers.append(answer)\n",
        "\n",
        "        # Select the answer with the best score\n",
        "        if len(answers) > 0:\n",
        "            best_answer = max(answers, key=lambda x: x[\"logit_score\"])\n",
        "            predicted_answers.append(\n",
        "                {\"id\": str(example_id), \"prediction_text\": best_answer[\"text\"]}\n",
        "            )\n",
        "        else:\n",
        "            predicted_answers.append({\"id\": str(example_id), \"prediction_text\": \"\"})\n",
        "\n",
        "    theoretical_answers = [{\"id\": str(ex[\"id\"]),\n",
        "                            \"answers\": {\"text\": [ex[\"answer\"]],\n",
        "                                        \"answer_start\": [ex[\"context\"].find(ex[\"answer\"])]}} for ex in examples]\n",
        "    return metric.compute(predictions=predicted_answers, references=theoretical_answers)"
      ]
    },
    {
      "cell_type": "code",
      "execution_count": 78,
      "metadata": {
        "id": "u7LX4zJiydvH"
      },
      "outputs": [],
      "source": [
        "# pre_training_scores = compute_metrics(start_logits, end_logits, validation_dataset, dataset[\"validation\"])\n",
        "# pre_training_scores"
      ]
    },
    {
      "cell_type": "markdown",
      "metadata": {
        "id": "IhclRIP6C5ME"
      },
      "source": [
        "That is bad, but expected. Let's fine-tune our model now."
      ]
    },
    {
      "cell_type": "code",
      "execution_count": 79,
      "metadata": {
        "id": "9EjqoMvFKIqN"
      },
      "outputs": [],
      "source": [
        "'''\n",
        "This function is for tokenizing and preprocessing the training data.\n",
        "It is similar to the validation preprocessor, except for the fact that we also predict labels here.\n",
        "'''\n",
        "\n",
        "def preprocess_training_examples(examples):\n",
        "    inputs = tokenizer(\n",
        "        examples[\"question\"],\n",
        "        examples[\"context\"],\n",
        "        max_length=384,\n",
        "        truncation=\"only_second\",\n",
        "        stride=128,\n",
        "        return_overflowing_tokens=True,\n",
        "        return_offsets_mapping=True,\n",
        "        padding=\"max_length\",\n",
        "    )\n",
        "\n",
        "    offset_mapping = inputs.pop(\"offset_mapping\")\n",
        "    sample_map = inputs.pop(\"overflow_to_sample_mapping\")\n",
        "    answers = examples[\"answer\"]\n",
        "    contexts = examples[\"context\"]\n",
        "    start_positions = []\n",
        "    end_positions = []\n",
        "\n",
        "    for i, offset in enumerate(offset_mapping):\n",
        "        sample_idx = sample_map[i]\n",
        "        answer = answers[sample_idx]\n",
        "        context = contexts[sample_idx]\n",
        "        start_char = 0\n",
        "        end_char = 0\n",
        "        if answer != None:\n",
        "          start_char = context.find(answer)\n",
        "          end_char = start_char + len(answer)\n",
        "        sequence_ids = inputs.sequence_ids(i)\n",
        "\n",
        "        # Find the start and end of the context\n",
        "        idx = 0\n",
        "        while sequence_ids[idx] != 1:\n",
        "            idx += 1\n",
        "        context_start = idx\n",
        "        while sequence_ids[idx] == 1:\n",
        "            idx += 1\n",
        "        context_end = idx - 1\n",
        "\n",
        "        # If the answer is not fully inside the context, label is (0, 0)\n",
        "        if offset[context_start][0] > start_char or offset[context_end][1] < end_char:\n",
        "            start_positions.append(0)\n",
        "            end_positions.append(0)\n",
        "        else:\n",
        "            # Otherwise it's the start and end token positions\n",
        "            idx = context_start\n",
        "            while idx <= context_end and offset[idx][0] <= start_char:\n",
        "                idx += 1\n",
        "            start_positions.append(idx - 1)\n",
        "\n",
        "            idx = context_end\n",
        "            while idx >= context_start and offset[idx][1] >= end_char:\n",
        "                idx -= 1\n",
        "            end_positions.append(idx + 1)\n",
        "\n",
        "    inputs[\"start_positions\"] = start_positions\n",
        "    inputs[\"end_positions\"] = end_positions\n",
        "    return inputs"
      ]
    },
    {
      "cell_type": "code",
      "execution_count": 80,
      "metadata": {
        "colab": {
          "base_uri": "https://localhost:8080/",
          "height": 49,
          "referenced_widgets": [
            "1360f3293d8647dca7bbd1fc8c5ab2f8",
            "5825ee1fbf8549d394d9eaa89a61f5ae",
            "271e57b234024e70bfa5da5e7f969e84",
            "02a4b53d945d4f7485bcd56513cde8a0",
            "b956a9cdde4d4e9e937510d7b0c45feb",
            "3c2c5672c00d4e9e92a9039ad578f403",
            "827927bd4bf7419c97a7b1623983edf2",
            "1c7a75c2063044218f570f4d14db88d7",
            "fb2a49d2f91847d18af7ac276dd1436a",
            "d17036043bdf47fcbfc9d57997581adc",
            "2f7ccbf030e54c00a848b1b15d6d41f9"
          ]
        },
        "id": "QvIBjUMosfLX",
        "outputId": "d5593e6d-1175-4478-bed2-5a6c5c9050be"
      },
      "outputs": [
        {
          "output_type": "display_data",
          "data": {
            "text/plain": [
              "Map:   0%|          | 0/1258 [00:00<?, ? examples/s]"
            ],
            "application/vnd.jupyter.widget-view+json": {
              "version_major": 2,
              "version_minor": 0,
              "model_id": "1360f3293d8647dca7bbd1fc8c5ab2f8"
            }
          },
          "metadata": {}
        }
      ],
      "source": [
        "tokenized_dataset = dataset[\"train\"].map(preprocess_training_examples, batched=True, remove_columns=dataset[\"train\"].column_names)"
      ]
    },
    {
      "cell_type": "code",
      "execution_count": 81,
      "metadata": {
        "id": "hKVzqRlaN2bt"
      },
      "outputs": [],
      "source": [
        "torch.cuda.empty_cache()"
      ]
    },
    {
      "cell_type": "code",
      "execution_count": 82,
      "metadata": {
        "colab": {
          "base_uri": "https://localhost:8080/",
          "height": 196
        },
        "id": "9LmfHLOR0kAE",
        "outputId": "299eb323-7276-4ae1-bbcd-fc8004c6ea6e"
      },
      "outputs": [
        {
          "output_type": "stream",
          "name": "stderr",
          "text": [
            "You're using a DebertaV2TokenizerFast tokenizer. Please note that with a fast tokenizer, using the `__call__` method is faster than using a method to encode the text followed by a call to the `pad` method to get a padded encoding.\n"
          ]
        },
        {
          "output_type": "display_data",
          "data": {
            "text/plain": [
              "<IPython.core.display.HTML object>"
            ],
            "text/html": [
              "\n",
              "    <div>\n",
              "      \n",
              "      <progress value='717' max='717' style='width:300px; height:20px; vertical-align: middle;'></progress>\n",
              "      [717/717 06:32, Epoch 3/3]\n",
              "    </div>\n",
              "    <table border=\"1\" class=\"dataframe\">\n",
              "  <thead>\n",
              " <tr style=\"text-align: left;\">\n",
              "      <th>Step</th>\n",
              "      <th>Training Loss</th>\n",
              "    </tr>\n",
              "  </thead>\n",
              "  <tbody>\n",
              "    <tr>\n",
              "      <td>500</td>\n",
              "      <td>0.447600</td>\n",
              "    </tr>\n",
              "  </tbody>\n",
              "</table><p>"
            ]
          },
          "metadata": {}
        },
        {
          "output_type": "execute_result",
          "data": {
            "text/plain": [
              "TrainOutput(global_step=717, training_loss=0.35916298902184396, metrics={'train_runtime': 392.7076, 'train_samples_per_second': 14.553, 'train_steps_per_second': 1.826, 'total_flos': 1120003448624640.0, 'train_loss': 0.35916298902184396, 'epoch': 3.0})"
            ]
          },
          "metadata": {},
          "execution_count": 82
        }
      ],
      "source": [
        "'''\n",
        "Training our model.\n",
        "'''\n",
        "torch.cuda.empty_cache()\n",
        "training_args = TrainingArguments(\n",
        "    output_dir=\"trained_results\",\n",
        "    evaluation_strategy=\"no\",\n",
        "    save_strategy=\"epoch\",\n",
        "    learning_rate=2e-5,\n",
        "    per_device_train_batch_size=8,\n",
        "    per_device_eval_batch_size=8,\n",
        "    num_train_epochs=3,\n",
        "    weight_decay=0.01,\n",
        "    fp16=True\n",
        ")\n",
        "\n",
        "trainer = Trainer(\n",
        "    model=model,\n",
        "    args=training_args,\n",
        "    train_dataset=tokenized_dataset,\n",
        "    eval_dataset=validation_dataset,\n",
        "    tokenizer=tokenizer,\n",
        ")\n",
        "\n",
        "trainer.train()"
      ]
    },
    {
      "cell_type": "code",
      "execution_count": 83,
      "metadata": {
        "id": "DtKU2yRhd0tF"
      },
      "outputs": [],
      "source": [
        "model.save_pretrained(\"trained_model\")\n",
        "model = AutoModelForQuestionAnswering.from_pretrained(\"trained_model\")"
      ]
    },
    {
      "cell_type": "markdown",
      "metadata": {
        "id": "yzhd-ZJf87Sk"
      },
      "source": [
        "#Step 4: Inference and Evaluation after Fine-Tuning"
      ]
    },
    {
      "cell_type": "code",
      "execution_count": 131,
      "metadata": {
        "id": "GkarIZld8_hJ"
      },
      "outputs": [],
      "source": [
        "'''\n",
        "Let's now test the model on the same test dataset example after fine-tuning.\n",
        "'''\n",
        "\n",
        "question = 'what is the redshift value?'\n",
        "context = context_test\n",
        "# answer = dataset[\"validation\"][2][\"answer\"]\n",
        "# answer #Real answer"
      ]
    },
    {
      "cell_type": "code",
      "execution_count": 132,
      "metadata": {
        "colab": {
          "base_uri": "https://localhost:8080/"
        },
        "id": "p0Pg0sG2l4el",
        "outputId": "76cf08b6-1269-41d3-cd6c-07a2c0a773b3"
      },
      "outputs": [
        {
          "output_type": "execute_result",
          "data": {
            "text/plain": [
              "{'score': 0.9943572282791138, 'start': 1316, 'end': 1323, 'answer': ' z < 4.'}"
            ]
          },
          "metadata": {},
          "execution_count": 132
        }
      ],
      "source": [
        "question_answerer = pipeline(\"question-answering\", model=model, tokenizer=tokenizer)\n",
        "question_answerer(question=question, context=context, handle_impossible_answer=True) #Predicted answer"
      ]
    },
    {
      "cell_type": "code",
      "source": [
        "print(question)\n",
        "print(context)"
      ],
      "metadata": {
        "colab": {
          "base_uri": "https://localhost:8080/"
        },
        "id": "iG--JhPnhiSb",
        "outputId": "2014b091-888f-4a07-c480-3dee610d0972"
      },
      "execution_count": 133,
      "outputs": [
        {
          "output_type": "stream",
          "name": "stdout",
          "text": [
            "what is the redshift value?\n",
            "title:   gcn circular\n",
            "number:  1000012\n",
            "subject: grb 181213a: not optical observations\n",
            "date:    18/12/14 10:01:41 gmt\n",
            "from:    kasper elm heintz at univ. of iceland and dawn/nbi  <keh14@hi.is>\n",
            "\n",
            "k. e. heintz (univ. of iceland), d. b. malesani (dawn/nbi/dtu and dark/nbi), j. p. u. fynbo (dawn/nbi/dtu), a. de ugarte postigo (heth/iaa-csic and dark/nbi), l. balaguer-nuã±ez, j. carbajo (dept. fqa, univ. de barcelona), f. galindo and c. perez (not), report on behalf of a larger collaboration:\n",
            "\n",
            "we observed the optical afterglow (lipunov et al., gcn 23526; hu et al., gcn 23527; siegel et al., gcn 23529; belkin et al., gcn 23530) of grb 181213a (evans et al., gcn 23525) with the 2.5-m nordic optical telescope (not) equipped with alfosc.\n",
            "\n",
            "spectroscopy was secured: we obtained 4x900s exposures using grism 4 (with a wavelength coverage from 350 to 900 nm) starting at 23:27:14 ut on december 13 (i.e. 10.5 hr after trigger). the observations were obtained at a seeing around 1â but at an airmass > 3. from the acquisition image taken without filter we measure r = 20.6 +/- 0.2 ab mag, calibrated against sdss r-band pan-starrs local photometry. the combined spectrum shows a low-s/n, mostly featureless continuum. based on the detected continuum down to 415 nm we infer an upper limit on the redshift for the grb of z < 4.\n",
            "\n",
            "\n"
          ]
        }
      ]
    },
    {
      "cell_type": "markdown",
      "metadata": {
        "id": "gVL9HRTlmFfI"
      },
      "source": [
        "This answer is much better! Now let's get the evaluation metrics."
      ]
    },
    {
      "cell_type": "code",
      "execution_count": 87,
      "metadata": {
        "colab": {
          "base_uri": "https://localhost:8080/",
          "height": 66,
          "referenced_widgets": [
            "1688680b8f4a400c99c34306df27275d",
            "8c9a832a5d024e5d90b776603cecbf1c",
            "bad84372a5ac4aad84504f7e0595e985",
            "fc47f98472ab4593b42292c6ee230c56",
            "00fee820b0d24f1f8de8bf4d2512a782",
            "e5fa9e23e9b54d2d8350fcf915161ae1",
            "e64e51edc11e493dbb60058d079509c5",
            "47e1c8f214e94c9e89302356a9147399",
            "cdf23e84accd45aeb47b5f071b1803d5",
            "386e92d5e3ec4227824effcc6afb4e96",
            "9409ff5cb08f4a5488198ad481169852"
          ]
        },
        "id": "FcvglFvFQl6R",
        "outputId": "d5638579-f6f9-4d1e-f81c-7a3335c86079"
      },
      "outputs": [
        {
          "output_type": "display_data",
          "data": {
            "text/plain": [
              "<IPython.core.display.HTML object>"
            ],
            "text/html": []
          },
          "metadata": {}
        },
        {
          "output_type": "display_data",
          "data": {
            "text/plain": [
              "  0%|          | 0/157 [00:00<?, ?it/s]"
            ],
            "application/vnd.jupyter.widget-view+json": {
              "version_major": 2,
              "version_minor": 0,
              "model_id": "1688680b8f4a400c99c34306df27275d"
            }
          },
          "metadata": {}
        },
        {
          "output_type": "execute_result",
          "data": {
            "text/plain": [
              "{'exact_match': 94.90445859872611, 'f1': 95.32908704883228}"
            ]
          },
          "metadata": {},
          "execution_count": 87
        }
      ],
      "source": [
        "predictions, _, _ = trainer.predict(validation_dataset)\n",
        "start_logits, end_logits = predictions\n",
        "post_training_scores = compute_metrics(start_logits, end_logits, validation_dataset, dataset[\"validation\"])\n",
        "post_training_scores"
      ]
    },
    {
      "cell_type": "markdown",
      "metadata": {
        "id": "KES2YOnFVGXg"
      },
      "source": [
        "This is a lot better. We have successfully fine-tuned our model."
      ]
    },
    {
      "cell_type": "markdown",
      "metadata": {
        "id": "GIy6gVBK3n5s"
      },
      "source": [
        "From our investigations, it seems to be that the best model is \"deepset/deberta-v3-base-squad2\". Let's test their performance on the test set now."
      ]
    },
    {
      "cell_type": "code",
      "execution_count": 88,
      "metadata": {
        "colab": {
          "base_uri": "https://localhost:8080/",
          "height": 98,
          "referenced_widgets": [
            "99fa0a457caf41b2ac18df165167e9a1",
            "e8192529774c424fbedf43c530d81668",
            "905ba7cefd23471ab66844703b88b54c",
            "7c16e3b0127245a7bddafb6525a053e0",
            "a44693b189434c2eb8ccfdd73f513ad0",
            "003db3946ace4131af281306a2689e02",
            "8d5d32ff25694acdb6198bde3d88a9ed",
            "1037088c5f7e4c5ba2c00ea75034ee2a",
            "ac8c19c1493344ff8909dcf7b51932d6",
            "e284048659de432baf1baa0099f18371",
            "6dd355d615f04922b6235782fb7e2bf3",
            "192f58d506bf4772b537d326d47e8e16",
            "e5b40fa807db486ea739e7286268e118",
            "914a370cdfab4c7bb7362e65c2d17e9d",
            "ccb0491dad7e4424b3c41f5bedf905bf",
            "17b2707124be4f589133cfb8672e39f5",
            "6eff149f24f2448b96f0347fabbd1bb4",
            "df2e882df21348edb235896f28b026bc",
            "2b8cf198b0d44a5d9a2d70144a5653a4",
            "e83067a3aca14d1faf11cdbfc2ebb228",
            "f40f98a7e4484519938f56f557a72e44",
            "d8d96993a12844dd94c12e5de7390c8f"
          ]
        },
        "id": "zZeL8SlQ4kjo",
        "outputId": "83aaece9-f89c-4253-bb37-f80a9650061d"
      },
      "outputs": [
        {
          "output_type": "display_data",
          "data": {
            "text/plain": [
              "Map:   0%|          | 0/158 [00:00<?, ? examples/s]"
            ],
            "application/vnd.jupyter.widget-view+json": {
              "version_major": 2,
              "version_minor": 0,
              "model_id": "99fa0a457caf41b2ac18df165167e9a1"
            }
          },
          "metadata": {}
        },
        {
          "output_type": "display_data",
          "data": {
            "text/plain": [
              "<IPython.core.display.HTML object>"
            ],
            "text/html": []
          },
          "metadata": {}
        },
        {
          "output_type": "display_data",
          "data": {
            "text/plain": [
              "  0%|          | 0/158 [00:00<?, ?it/s]"
            ],
            "application/vnd.jupyter.widget-view+json": {
              "version_major": 2,
              "version_minor": 0,
              "model_id": "192f58d506bf4772b537d326d47e8e16"
            }
          },
          "metadata": {}
        },
        {
          "output_type": "execute_result",
          "data": {
            "text/plain": [
              "{'exact_match': 94.30379746835443, 'f1': 95.14767932489451}"
            ]
          },
          "metadata": {},
          "execution_count": 88
        }
      ],
      "source": [
        "test_dataset = dataset[\"test\"].map(\n",
        "    preprocess_validation_examples,\n",
        "    batched=True,\n",
        "    remove_columns=dataset[\"test\"].column_names,\n",
        ")\n",
        "\n",
        "predictions, _, _ = trainer.predict(test_dataset)\n",
        "start_logits, end_logits = predictions\n",
        "post_training_scores = compute_metrics(start_logits, end_logits, test_dataset, dataset[\"test\"])\n",
        "post_training_scores"
      ]
    },
    {
      "cell_type": "markdown",
      "metadata": {
        "id": "1Gy9EZw7JINI"
      },
      "source": [
        "An approximate 95% accuracy!"
      ]
    }
  ],
  "metadata": {
    "accelerator": "GPU",
    "colab": {
      "provenance": [],
      "gpuType": "T4",
      "authorship_tag": "ABX9TyPXL16Qa/LNaZDUgQkI/jfh",
      "include_colab_link": true
    },
    "kernelspec": {
      "display_name": "Python 3",
      "name": "python3"
    },
    "language_info": {
      "name": "python"
    },
    "widgets": {
      "application/vnd.jupyter.widget-state+json": {
        "6da87855063c414e9302c0ee2e17e92c": {
          "model_module": "@jupyter-widgets/controls",
          "model_name": "HBoxModel",
          "model_module_version": "1.5.0",
          "state": {
            "_dom_classes": [],
            "_model_module": "@jupyter-widgets/controls",
            "_model_module_version": "1.5.0",
            "_model_name": "HBoxModel",
            "_view_count": null,
            "_view_module": "@jupyter-widgets/controls",
            "_view_module_version": "1.5.0",
            "_view_name": "HBoxView",
            "box_style": "",
            "children": [
              "IPY_MODEL_f88e18ab673a435196cdb384ad7937d7",
              "IPY_MODEL_fb2a157020654633896187d72f48c309",
              "IPY_MODEL_d7dea8b3e020425bbc6b8ed78a5b7a4e"
            ],
            "layout": "IPY_MODEL_afa30263aa24497594fcc72055459a90"
          }
        },
        "f88e18ab673a435196cdb384ad7937d7": {
          "model_module": "@jupyter-widgets/controls",
          "model_name": "HTMLModel",
          "model_module_version": "1.5.0",
          "state": {
            "_dom_classes": [],
            "_model_module": "@jupyter-widgets/controls",
            "_model_module_version": "1.5.0",
            "_model_name": "HTMLModel",
            "_view_count": null,
            "_view_module": "@jupyter-widgets/controls",
            "_view_module_version": "1.5.0",
            "_view_name": "HTMLView",
            "description": "",
            "description_tooltip": null,
            "layout": "IPY_MODEL_a14e9e59f5b7464c9403688d06240495",
            "placeholder": "​",
            "style": "IPY_MODEL_2cba3d708c044f32800fe9e40b765499",
            "value": "Downloading data files: 100%"
          }
        },
        "fb2a157020654633896187d72f48c309": {
          "model_module": "@jupyter-widgets/controls",
          "model_name": "FloatProgressModel",
          "model_module_version": "1.5.0",
          "state": {
            "_dom_classes": [],
            "_model_module": "@jupyter-widgets/controls",
            "_model_module_version": "1.5.0",
            "_model_name": "FloatProgressModel",
            "_view_count": null,
            "_view_module": "@jupyter-widgets/controls",
            "_view_module_version": "1.5.0",
            "_view_name": "ProgressView",
            "bar_style": "success",
            "description": "",
            "description_tooltip": null,
            "layout": "IPY_MODEL_896e65c9e97e40f488ca4a9de1e263f6",
            "max": 1,
            "min": 0,
            "orientation": "horizontal",
            "style": "IPY_MODEL_9657c34bd06d4f148f7c503fe63df308",
            "value": 1
          }
        },
        "d7dea8b3e020425bbc6b8ed78a5b7a4e": {
          "model_module": "@jupyter-widgets/controls",
          "model_name": "HTMLModel",
          "model_module_version": "1.5.0",
          "state": {
            "_dom_classes": [],
            "_model_module": "@jupyter-widgets/controls",
            "_model_module_version": "1.5.0",
            "_model_name": "HTMLModel",
            "_view_count": null,
            "_view_module": "@jupyter-widgets/controls",
            "_view_module_version": "1.5.0",
            "_view_name": "HTMLView",
            "description": "",
            "description_tooltip": null,
            "layout": "IPY_MODEL_008f1a81856846d2be8b124501175603",
            "placeholder": "​",
            "style": "IPY_MODEL_96e29ca9df564f95872983f8c9b9819b",
            "value": " 1/1 [00:00&lt;00:00, 37.16it/s]"
          }
        },
        "afa30263aa24497594fcc72055459a90": {
          "model_module": "@jupyter-widgets/base",
          "model_name": "LayoutModel",
          "model_module_version": "1.2.0",
          "state": {
            "_model_module": "@jupyter-widgets/base",
            "_model_module_version": "1.2.0",
            "_model_name": "LayoutModel",
            "_view_count": null,
            "_view_module": "@jupyter-widgets/base",
            "_view_module_version": "1.2.0",
            "_view_name": "LayoutView",
            "align_content": null,
            "align_items": null,
            "align_self": null,
            "border": null,
            "bottom": null,
            "display": null,
            "flex": null,
            "flex_flow": null,
            "grid_area": null,
            "grid_auto_columns": null,
            "grid_auto_flow": null,
            "grid_auto_rows": null,
            "grid_column": null,
            "grid_gap": null,
            "grid_row": null,
            "grid_template_areas": null,
            "grid_template_columns": null,
            "grid_template_rows": null,
            "height": null,
            "justify_content": null,
            "justify_items": null,
            "left": null,
            "margin": null,
            "max_height": null,
            "max_width": null,
            "min_height": null,
            "min_width": null,
            "object_fit": null,
            "object_position": null,
            "order": null,
            "overflow": null,
            "overflow_x": null,
            "overflow_y": null,
            "padding": null,
            "right": null,
            "top": null,
            "visibility": null,
            "width": null
          }
        },
        "a14e9e59f5b7464c9403688d06240495": {
          "model_module": "@jupyter-widgets/base",
          "model_name": "LayoutModel",
          "model_module_version": "1.2.0",
          "state": {
            "_model_module": "@jupyter-widgets/base",
            "_model_module_version": "1.2.0",
            "_model_name": "LayoutModel",
            "_view_count": null,
            "_view_module": "@jupyter-widgets/base",
            "_view_module_version": "1.2.0",
            "_view_name": "LayoutView",
            "align_content": null,
            "align_items": null,
            "align_self": null,
            "border": null,
            "bottom": null,
            "display": null,
            "flex": null,
            "flex_flow": null,
            "grid_area": null,
            "grid_auto_columns": null,
            "grid_auto_flow": null,
            "grid_auto_rows": null,
            "grid_column": null,
            "grid_gap": null,
            "grid_row": null,
            "grid_template_areas": null,
            "grid_template_columns": null,
            "grid_template_rows": null,
            "height": null,
            "justify_content": null,
            "justify_items": null,
            "left": null,
            "margin": null,
            "max_height": null,
            "max_width": null,
            "min_height": null,
            "min_width": null,
            "object_fit": null,
            "object_position": null,
            "order": null,
            "overflow": null,
            "overflow_x": null,
            "overflow_y": null,
            "padding": null,
            "right": null,
            "top": null,
            "visibility": null,
            "width": null
          }
        },
        "2cba3d708c044f32800fe9e40b765499": {
          "model_module": "@jupyter-widgets/controls",
          "model_name": "DescriptionStyleModel",
          "model_module_version": "1.5.0",
          "state": {
            "_model_module": "@jupyter-widgets/controls",
            "_model_module_version": "1.5.0",
            "_model_name": "DescriptionStyleModel",
            "_view_count": null,
            "_view_module": "@jupyter-widgets/base",
            "_view_module_version": "1.2.0",
            "_view_name": "StyleView",
            "description_width": ""
          }
        },
        "896e65c9e97e40f488ca4a9de1e263f6": {
          "model_module": "@jupyter-widgets/base",
          "model_name": "LayoutModel",
          "model_module_version": "1.2.0",
          "state": {
            "_model_module": "@jupyter-widgets/base",
            "_model_module_version": "1.2.0",
            "_model_name": "LayoutModel",
            "_view_count": null,
            "_view_module": "@jupyter-widgets/base",
            "_view_module_version": "1.2.0",
            "_view_name": "LayoutView",
            "align_content": null,
            "align_items": null,
            "align_self": null,
            "border": null,
            "bottom": null,
            "display": null,
            "flex": null,
            "flex_flow": null,
            "grid_area": null,
            "grid_auto_columns": null,
            "grid_auto_flow": null,
            "grid_auto_rows": null,
            "grid_column": null,
            "grid_gap": null,
            "grid_row": null,
            "grid_template_areas": null,
            "grid_template_columns": null,
            "grid_template_rows": null,
            "height": null,
            "justify_content": null,
            "justify_items": null,
            "left": null,
            "margin": null,
            "max_height": null,
            "max_width": null,
            "min_height": null,
            "min_width": null,
            "object_fit": null,
            "object_position": null,
            "order": null,
            "overflow": null,
            "overflow_x": null,
            "overflow_y": null,
            "padding": null,
            "right": null,
            "top": null,
            "visibility": null,
            "width": null
          }
        },
        "9657c34bd06d4f148f7c503fe63df308": {
          "model_module": "@jupyter-widgets/controls",
          "model_name": "ProgressStyleModel",
          "model_module_version": "1.5.0",
          "state": {
            "_model_module": "@jupyter-widgets/controls",
            "_model_module_version": "1.5.0",
            "_model_name": "ProgressStyleModel",
            "_view_count": null,
            "_view_module": "@jupyter-widgets/base",
            "_view_module_version": "1.2.0",
            "_view_name": "StyleView",
            "bar_color": null,
            "description_width": ""
          }
        },
        "008f1a81856846d2be8b124501175603": {
          "model_module": "@jupyter-widgets/base",
          "model_name": "LayoutModel",
          "model_module_version": "1.2.0",
          "state": {
            "_model_module": "@jupyter-widgets/base",
            "_model_module_version": "1.2.0",
            "_model_name": "LayoutModel",
            "_view_count": null,
            "_view_module": "@jupyter-widgets/base",
            "_view_module_version": "1.2.0",
            "_view_name": "LayoutView",
            "align_content": null,
            "align_items": null,
            "align_self": null,
            "border": null,
            "bottom": null,
            "display": null,
            "flex": null,
            "flex_flow": null,
            "grid_area": null,
            "grid_auto_columns": null,
            "grid_auto_flow": null,
            "grid_auto_rows": null,
            "grid_column": null,
            "grid_gap": null,
            "grid_row": null,
            "grid_template_areas": null,
            "grid_template_columns": null,
            "grid_template_rows": null,
            "height": null,
            "justify_content": null,
            "justify_items": null,
            "left": null,
            "margin": null,
            "max_height": null,
            "max_width": null,
            "min_height": null,
            "min_width": null,
            "object_fit": null,
            "object_position": null,
            "order": null,
            "overflow": null,
            "overflow_x": null,
            "overflow_y": null,
            "padding": null,
            "right": null,
            "top": null,
            "visibility": null,
            "width": null
          }
        },
        "96e29ca9df564f95872983f8c9b9819b": {
          "model_module": "@jupyter-widgets/controls",
          "model_name": "DescriptionStyleModel",
          "model_module_version": "1.5.0",
          "state": {
            "_model_module": "@jupyter-widgets/controls",
            "_model_module_version": "1.5.0",
            "_model_name": "DescriptionStyleModel",
            "_view_count": null,
            "_view_module": "@jupyter-widgets/base",
            "_view_module_version": "1.2.0",
            "_view_name": "StyleView",
            "description_width": ""
          }
        },
        "8e5331f9c0b74cca856ba9ec0d6ec6ef": {
          "model_module": "@jupyter-widgets/controls",
          "model_name": "HBoxModel",
          "model_module_version": "1.5.0",
          "state": {
            "_dom_classes": [],
            "_model_module": "@jupyter-widgets/controls",
            "_model_module_version": "1.5.0",
            "_model_name": "HBoxModel",
            "_view_count": null,
            "_view_module": "@jupyter-widgets/controls",
            "_view_module_version": "1.5.0",
            "_view_name": "HBoxView",
            "box_style": "",
            "children": [
              "IPY_MODEL_c5d0800bb8d24a97918d2e5b9aa4c13a",
              "IPY_MODEL_3a7c2b49b48240deaa2186ab9883c931",
              "IPY_MODEL_b67d2e1fb192458a8dc0efc375025bfd"
            ],
            "layout": "IPY_MODEL_e4bf59958dd84b599becf7a6544b88fa"
          }
        },
        "c5d0800bb8d24a97918d2e5b9aa4c13a": {
          "model_module": "@jupyter-widgets/controls",
          "model_name": "HTMLModel",
          "model_module_version": "1.5.0",
          "state": {
            "_dom_classes": [],
            "_model_module": "@jupyter-widgets/controls",
            "_model_module_version": "1.5.0",
            "_model_name": "HTMLModel",
            "_view_count": null,
            "_view_module": "@jupyter-widgets/controls",
            "_view_module_version": "1.5.0",
            "_view_name": "HTMLView",
            "description": "",
            "description_tooltip": null,
            "layout": "IPY_MODEL_11cb1fda6fe64435a3e7a89c96972b84",
            "placeholder": "​",
            "style": "IPY_MODEL_5943427babcc4ab78e143621d9dd5b72",
            "value": "Extracting data files: 100%"
          }
        },
        "3a7c2b49b48240deaa2186ab9883c931": {
          "model_module": "@jupyter-widgets/controls",
          "model_name": "FloatProgressModel",
          "model_module_version": "1.5.0",
          "state": {
            "_dom_classes": [],
            "_model_module": "@jupyter-widgets/controls",
            "_model_module_version": "1.5.0",
            "_model_name": "FloatProgressModel",
            "_view_count": null,
            "_view_module": "@jupyter-widgets/controls",
            "_view_module_version": "1.5.0",
            "_view_name": "ProgressView",
            "bar_style": "success",
            "description": "",
            "description_tooltip": null,
            "layout": "IPY_MODEL_c3454243667f4cc692aa8d7600c53c82",
            "max": 1,
            "min": 0,
            "orientation": "horizontal",
            "style": "IPY_MODEL_407b1cafd754436ba5aae17b540aaf6b",
            "value": 1
          }
        },
        "b67d2e1fb192458a8dc0efc375025bfd": {
          "model_module": "@jupyter-widgets/controls",
          "model_name": "HTMLModel",
          "model_module_version": "1.5.0",
          "state": {
            "_dom_classes": [],
            "_model_module": "@jupyter-widgets/controls",
            "_model_module_version": "1.5.0",
            "_model_name": "HTMLModel",
            "_view_count": null,
            "_view_module": "@jupyter-widgets/controls",
            "_view_module_version": "1.5.0",
            "_view_name": "HTMLView",
            "description": "",
            "description_tooltip": null,
            "layout": "IPY_MODEL_41eeb355a99b46bda3c624884e369208",
            "placeholder": "​",
            "style": "IPY_MODEL_438a2abebac548ce868847bc029e7576",
            "value": " 1/1 [00:00&lt;00:00, 39.34it/s]"
          }
        },
        "e4bf59958dd84b599becf7a6544b88fa": {
          "model_module": "@jupyter-widgets/base",
          "model_name": "LayoutModel",
          "model_module_version": "1.2.0",
          "state": {
            "_model_module": "@jupyter-widgets/base",
            "_model_module_version": "1.2.0",
            "_model_name": "LayoutModel",
            "_view_count": null,
            "_view_module": "@jupyter-widgets/base",
            "_view_module_version": "1.2.0",
            "_view_name": "LayoutView",
            "align_content": null,
            "align_items": null,
            "align_self": null,
            "border": null,
            "bottom": null,
            "display": null,
            "flex": null,
            "flex_flow": null,
            "grid_area": null,
            "grid_auto_columns": null,
            "grid_auto_flow": null,
            "grid_auto_rows": null,
            "grid_column": null,
            "grid_gap": null,
            "grid_row": null,
            "grid_template_areas": null,
            "grid_template_columns": null,
            "grid_template_rows": null,
            "height": null,
            "justify_content": null,
            "justify_items": null,
            "left": null,
            "margin": null,
            "max_height": null,
            "max_width": null,
            "min_height": null,
            "min_width": null,
            "object_fit": null,
            "object_position": null,
            "order": null,
            "overflow": null,
            "overflow_x": null,
            "overflow_y": null,
            "padding": null,
            "right": null,
            "top": null,
            "visibility": null,
            "width": null
          }
        },
        "11cb1fda6fe64435a3e7a89c96972b84": {
          "model_module": "@jupyter-widgets/base",
          "model_name": "LayoutModel",
          "model_module_version": "1.2.0",
          "state": {
            "_model_module": "@jupyter-widgets/base",
            "_model_module_version": "1.2.0",
            "_model_name": "LayoutModel",
            "_view_count": null,
            "_view_module": "@jupyter-widgets/base",
            "_view_module_version": "1.2.0",
            "_view_name": "LayoutView",
            "align_content": null,
            "align_items": null,
            "align_self": null,
            "border": null,
            "bottom": null,
            "display": null,
            "flex": null,
            "flex_flow": null,
            "grid_area": null,
            "grid_auto_columns": null,
            "grid_auto_flow": null,
            "grid_auto_rows": null,
            "grid_column": null,
            "grid_gap": null,
            "grid_row": null,
            "grid_template_areas": null,
            "grid_template_columns": null,
            "grid_template_rows": null,
            "height": null,
            "justify_content": null,
            "justify_items": null,
            "left": null,
            "margin": null,
            "max_height": null,
            "max_width": null,
            "min_height": null,
            "min_width": null,
            "object_fit": null,
            "object_position": null,
            "order": null,
            "overflow": null,
            "overflow_x": null,
            "overflow_y": null,
            "padding": null,
            "right": null,
            "top": null,
            "visibility": null,
            "width": null
          }
        },
        "5943427babcc4ab78e143621d9dd5b72": {
          "model_module": "@jupyter-widgets/controls",
          "model_name": "DescriptionStyleModel",
          "model_module_version": "1.5.0",
          "state": {
            "_model_module": "@jupyter-widgets/controls",
            "_model_module_version": "1.5.0",
            "_model_name": "DescriptionStyleModel",
            "_view_count": null,
            "_view_module": "@jupyter-widgets/base",
            "_view_module_version": "1.2.0",
            "_view_name": "StyleView",
            "description_width": ""
          }
        },
        "c3454243667f4cc692aa8d7600c53c82": {
          "model_module": "@jupyter-widgets/base",
          "model_name": "LayoutModel",
          "model_module_version": "1.2.0",
          "state": {
            "_model_module": "@jupyter-widgets/base",
            "_model_module_version": "1.2.0",
            "_model_name": "LayoutModel",
            "_view_count": null,
            "_view_module": "@jupyter-widgets/base",
            "_view_module_version": "1.2.0",
            "_view_name": "LayoutView",
            "align_content": null,
            "align_items": null,
            "align_self": null,
            "border": null,
            "bottom": null,
            "display": null,
            "flex": null,
            "flex_flow": null,
            "grid_area": null,
            "grid_auto_columns": null,
            "grid_auto_flow": null,
            "grid_auto_rows": null,
            "grid_column": null,
            "grid_gap": null,
            "grid_row": null,
            "grid_template_areas": null,
            "grid_template_columns": null,
            "grid_template_rows": null,
            "height": null,
            "justify_content": null,
            "justify_items": null,
            "left": null,
            "margin": null,
            "max_height": null,
            "max_width": null,
            "min_height": null,
            "min_width": null,
            "object_fit": null,
            "object_position": null,
            "order": null,
            "overflow": null,
            "overflow_x": null,
            "overflow_y": null,
            "padding": null,
            "right": null,
            "top": null,
            "visibility": null,
            "width": null
          }
        },
        "407b1cafd754436ba5aae17b540aaf6b": {
          "model_module": "@jupyter-widgets/controls",
          "model_name": "ProgressStyleModel",
          "model_module_version": "1.5.0",
          "state": {
            "_model_module": "@jupyter-widgets/controls",
            "_model_module_version": "1.5.0",
            "_model_name": "ProgressStyleModel",
            "_view_count": null,
            "_view_module": "@jupyter-widgets/base",
            "_view_module_version": "1.2.0",
            "_view_name": "StyleView",
            "bar_color": null,
            "description_width": ""
          }
        },
        "41eeb355a99b46bda3c624884e369208": {
          "model_module": "@jupyter-widgets/base",
          "model_name": "LayoutModel",
          "model_module_version": "1.2.0",
          "state": {
            "_model_module": "@jupyter-widgets/base",
            "_model_module_version": "1.2.0",
            "_model_name": "LayoutModel",
            "_view_count": null,
            "_view_module": "@jupyter-widgets/base",
            "_view_module_version": "1.2.0",
            "_view_name": "LayoutView",
            "align_content": null,
            "align_items": null,
            "align_self": null,
            "border": null,
            "bottom": null,
            "display": null,
            "flex": null,
            "flex_flow": null,
            "grid_area": null,
            "grid_auto_columns": null,
            "grid_auto_flow": null,
            "grid_auto_rows": null,
            "grid_column": null,
            "grid_gap": null,
            "grid_row": null,
            "grid_template_areas": null,
            "grid_template_columns": null,
            "grid_template_rows": null,
            "height": null,
            "justify_content": null,
            "justify_items": null,
            "left": null,
            "margin": null,
            "max_height": null,
            "max_width": null,
            "min_height": null,
            "min_width": null,
            "object_fit": null,
            "object_position": null,
            "order": null,
            "overflow": null,
            "overflow_x": null,
            "overflow_y": null,
            "padding": null,
            "right": null,
            "top": null,
            "visibility": null,
            "width": null
          }
        },
        "438a2abebac548ce868847bc029e7576": {
          "model_module": "@jupyter-widgets/controls",
          "model_name": "DescriptionStyleModel",
          "model_module_version": "1.5.0",
          "state": {
            "_model_module": "@jupyter-widgets/controls",
            "_model_module_version": "1.5.0",
            "_model_name": "DescriptionStyleModel",
            "_view_count": null,
            "_view_module": "@jupyter-widgets/base",
            "_view_module_version": "1.2.0",
            "_view_name": "StyleView",
            "description_width": ""
          }
        },
        "5e74d84b0e1749a7a1d47ff9de9c78af": {
          "model_module": "@jupyter-widgets/controls",
          "model_name": "HBoxModel",
          "model_module_version": "1.5.0",
          "state": {
            "_dom_classes": [],
            "_model_module": "@jupyter-widgets/controls",
            "_model_module_version": "1.5.0",
            "_model_name": "HBoxModel",
            "_view_count": null,
            "_view_module": "@jupyter-widgets/controls",
            "_view_module_version": "1.5.0",
            "_view_name": "HBoxView",
            "box_style": "",
            "children": [
              "IPY_MODEL_a3257c511e3b4453ae9f3851f5a6f095",
              "IPY_MODEL_e365be1830e34433be408e2f144c4ac6",
              "IPY_MODEL_34972fed81d141c38bb9dc10b0e713df"
            ],
            "layout": "IPY_MODEL_d21f3e7684c240d68f0b16df0c525cdd"
          }
        },
        "a3257c511e3b4453ae9f3851f5a6f095": {
          "model_module": "@jupyter-widgets/controls",
          "model_name": "HTMLModel",
          "model_module_version": "1.5.0",
          "state": {
            "_dom_classes": [],
            "_model_module": "@jupyter-widgets/controls",
            "_model_module_version": "1.5.0",
            "_model_name": "HTMLModel",
            "_view_count": null,
            "_view_module": "@jupyter-widgets/controls",
            "_view_module_version": "1.5.0",
            "_view_name": "HTMLView",
            "description": "",
            "description_tooltip": null,
            "layout": "IPY_MODEL_7d01660b43cb4dbea30cb234ed5c59c1",
            "placeholder": "​",
            "style": "IPY_MODEL_c42ff263838c4cc399055cc3e8013e7d",
            "value": "Generating train split: "
          }
        },
        "e365be1830e34433be408e2f144c4ac6": {
          "model_module": "@jupyter-widgets/controls",
          "model_name": "FloatProgressModel",
          "model_module_version": "1.5.0",
          "state": {
            "_dom_classes": [],
            "_model_module": "@jupyter-widgets/controls",
            "_model_module_version": "1.5.0",
            "_model_name": "FloatProgressModel",
            "_view_count": null,
            "_view_module": "@jupyter-widgets/controls",
            "_view_module_version": "1.5.0",
            "_view_name": "ProgressView",
            "bar_style": "success",
            "description": "",
            "description_tooltip": null,
            "layout": "IPY_MODEL_3521382b958042fdb1094ba90a39ca6a",
            "max": 1,
            "min": 0,
            "orientation": "horizontal",
            "style": "IPY_MODEL_c04450875f42410e9fd3f25a01e9aab4",
            "value": 1
          }
        },
        "34972fed81d141c38bb9dc10b0e713df": {
          "model_module": "@jupyter-widgets/controls",
          "model_name": "HTMLModel",
          "model_module_version": "1.5.0",
          "state": {
            "_dom_classes": [],
            "_model_module": "@jupyter-widgets/controls",
            "_model_module_version": "1.5.0",
            "_model_name": "HTMLModel",
            "_view_count": null,
            "_view_module": "@jupyter-widgets/controls",
            "_view_module_version": "1.5.0",
            "_view_name": "HTMLView",
            "description": "",
            "description_tooltip": null,
            "layout": "IPY_MODEL_b96f9fed657b401d87ea9f41a6235c7e",
            "placeholder": "​",
            "style": "IPY_MODEL_46d2259fdf68483bb882edc4c255fe69",
            "value": " 1573/0 [00:00&lt;00:00, 20022.52 examples/s]"
          }
        },
        "d21f3e7684c240d68f0b16df0c525cdd": {
          "model_module": "@jupyter-widgets/base",
          "model_name": "LayoutModel",
          "model_module_version": "1.2.0",
          "state": {
            "_model_module": "@jupyter-widgets/base",
            "_model_module_version": "1.2.0",
            "_model_name": "LayoutModel",
            "_view_count": null,
            "_view_module": "@jupyter-widgets/base",
            "_view_module_version": "1.2.0",
            "_view_name": "LayoutView",
            "align_content": null,
            "align_items": null,
            "align_self": null,
            "border": null,
            "bottom": null,
            "display": null,
            "flex": null,
            "flex_flow": null,
            "grid_area": null,
            "grid_auto_columns": null,
            "grid_auto_flow": null,
            "grid_auto_rows": null,
            "grid_column": null,
            "grid_gap": null,
            "grid_row": null,
            "grid_template_areas": null,
            "grid_template_columns": null,
            "grid_template_rows": null,
            "height": null,
            "justify_content": null,
            "justify_items": null,
            "left": null,
            "margin": null,
            "max_height": null,
            "max_width": null,
            "min_height": null,
            "min_width": null,
            "object_fit": null,
            "object_position": null,
            "order": null,
            "overflow": null,
            "overflow_x": null,
            "overflow_y": null,
            "padding": null,
            "right": null,
            "top": null,
            "visibility": null,
            "width": null
          }
        },
        "7d01660b43cb4dbea30cb234ed5c59c1": {
          "model_module": "@jupyter-widgets/base",
          "model_name": "LayoutModel",
          "model_module_version": "1.2.0",
          "state": {
            "_model_module": "@jupyter-widgets/base",
            "_model_module_version": "1.2.0",
            "_model_name": "LayoutModel",
            "_view_count": null,
            "_view_module": "@jupyter-widgets/base",
            "_view_module_version": "1.2.0",
            "_view_name": "LayoutView",
            "align_content": null,
            "align_items": null,
            "align_self": null,
            "border": null,
            "bottom": null,
            "display": null,
            "flex": null,
            "flex_flow": null,
            "grid_area": null,
            "grid_auto_columns": null,
            "grid_auto_flow": null,
            "grid_auto_rows": null,
            "grid_column": null,
            "grid_gap": null,
            "grid_row": null,
            "grid_template_areas": null,
            "grid_template_columns": null,
            "grid_template_rows": null,
            "height": null,
            "justify_content": null,
            "justify_items": null,
            "left": null,
            "margin": null,
            "max_height": null,
            "max_width": null,
            "min_height": null,
            "min_width": null,
            "object_fit": null,
            "object_position": null,
            "order": null,
            "overflow": null,
            "overflow_x": null,
            "overflow_y": null,
            "padding": null,
            "right": null,
            "top": null,
            "visibility": null,
            "width": null
          }
        },
        "c42ff263838c4cc399055cc3e8013e7d": {
          "model_module": "@jupyter-widgets/controls",
          "model_name": "DescriptionStyleModel",
          "model_module_version": "1.5.0",
          "state": {
            "_model_module": "@jupyter-widgets/controls",
            "_model_module_version": "1.5.0",
            "_model_name": "DescriptionStyleModel",
            "_view_count": null,
            "_view_module": "@jupyter-widgets/base",
            "_view_module_version": "1.2.0",
            "_view_name": "StyleView",
            "description_width": ""
          }
        },
        "3521382b958042fdb1094ba90a39ca6a": {
          "model_module": "@jupyter-widgets/base",
          "model_name": "LayoutModel",
          "model_module_version": "1.2.0",
          "state": {
            "_model_module": "@jupyter-widgets/base",
            "_model_module_version": "1.2.0",
            "_model_name": "LayoutModel",
            "_view_count": null,
            "_view_module": "@jupyter-widgets/base",
            "_view_module_version": "1.2.0",
            "_view_name": "LayoutView",
            "align_content": null,
            "align_items": null,
            "align_self": null,
            "border": null,
            "bottom": null,
            "display": null,
            "flex": null,
            "flex_flow": null,
            "grid_area": null,
            "grid_auto_columns": null,
            "grid_auto_flow": null,
            "grid_auto_rows": null,
            "grid_column": null,
            "grid_gap": null,
            "grid_row": null,
            "grid_template_areas": null,
            "grid_template_columns": null,
            "grid_template_rows": null,
            "height": null,
            "justify_content": null,
            "justify_items": null,
            "left": null,
            "margin": null,
            "max_height": null,
            "max_width": null,
            "min_height": null,
            "min_width": null,
            "object_fit": null,
            "object_position": null,
            "order": null,
            "overflow": null,
            "overflow_x": null,
            "overflow_y": null,
            "padding": null,
            "right": null,
            "top": null,
            "visibility": null,
            "width": "20px"
          }
        },
        "c04450875f42410e9fd3f25a01e9aab4": {
          "model_module": "@jupyter-widgets/controls",
          "model_name": "ProgressStyleModel",
          "model_module_version": "1.5.0",
          "state": {
            "_model_module": "@jupyter-widgets/controls",
            "_model_module_version": "1.5.0",
            "_model_name": "ProgressStyleModel",
            "_view_count": null,
            "_view_module": "@jupyter-widgets/base",
            "_view_module_version": "1.2.0",
            "_view_name": "StyleView",
            "bar_color": null,
            "description_width": ""
          }
        },
        "b96f9fed657b401d87ea9f41a6235c7e": {
          "model_module": "@jupyter-widgets/base",
          "model_name": "LayoutModel",
          "model_module_version": "1.2.0",
          "state": {
            "_model_module": "@jupyter-widgets/base",
            "_model_module_version": "1.2.0",
            "_model_name": "LayoutModel",
            "_view_count": null,
            "_view_module": "@jupyter-widgets/base",
            "_view_module_version": "1.2.0",
            "_view_name": "LayoutView",
            "align_content": null,
            "align_items": null,
            "align_self": null,
            "border": null,
            "bottom": null,
            "display": null,
            "flex": null,
            "flex_flow": null,
            "grid_area": null,
            "grid_auto_columns": null,
            "grid_auto_flow": null,
            "grid_auto_rows": null,
            "grid_column": null,
            "grid_gap": null,
            "grid_row": null,
            "grid_template_areas": null,
            "grid_template_columns": null,
            "grid_template_rows": null,
            "height": null,
            "justify_content": null,
            "justify_items": null,
            "left": null,
            "margin": null,
            "max_height": null,
            "max_width": null,
            "min_height": null,
            "min_width": null,
            "object_fit": null,
            "object_position": null,
            "order": null,
            "overflow": null,
            "overflow_x": null,
            "overflow_y": null,
            "padding": null,
            "right": null,
            "top": null,
            "visibility": null,
            "width": null
          }
        },
        "46d2259fdf68483bb882edc4c255fe69": {
          "model_module": "@jupyter-widgets/controls",
          "model_name": "DescriptionStyleModel",
          "model_module_version": "1.5.0",
          "state": {
            "_model_module": "@jupyter-widgets/controls",
            "_model_module_version": "1.5.0",
            "_model_name": "DescriptionStyleModel",
            "_view_count": null,
            "_view_module": "@jupyter-widgets/base",
            "_view_module_version": "1.2.0",
            "_view_name": "StyleView",
            "description_width": ""
          }
        },
        "470dce56113f4d17b4d9fb5d76ec0774": {
          "model_module": "@jupyter-widgets/controls",
          "model_name": "HBoxModel",
          "model_module_version": "1.5.0",
          "state": {
            "_dom_classes": [],
            "_model_module": "@jupyter-widgets/controls",
            "_model_module_version": "1.5.0",
            "_model_name": "HBoxModel",
            "_view_count": null,
            "_view_module": "@jupyter-widgets/controls",
            "_view_module_version": "1.5.0",
            "_view_name": "HBoxView",
            "box_style": "",
            "children": [
              "IPY_MODEL_91cbf4d95c5247aaaa3befb21dda62c4",
              "IPY_MODEL_eaa8ad753da840e3804aaa79e5f2c241",
              "IPY_MODEL_018ef82d235e43b19456277fd1879eac"
            ],
            "layout": "IPY_MODEL_88a29eb934364973a7644a55e2e71f97"
          }
        },
        "91cbf4d95c5247aaaa3befb21dda62c4": {
          "model_module": "@jupyter-widgets/controls",
          "model_name": "HTMLModel",
          "model_module_version": "1.5.0",
          "state": {
            "_dom_classes": [],
            "_model_module": "@jupyter-widgets/controls",
            "_model_module_version": "1.5.0",
            "_model_name": "HTMLModel",
            "_view_count": null,
            "_view_module": "@jupyter-widgets/controls",
            "_view_module_version": "1.5.0",
            "_view_name": "HTMLView",
            "description": "",
            "description_tooltip": null,
            "layout": "IPY_MODEL_1af0c0a9c481402b9fc0e820b32c73e8",
            "placeholder": "​",
            "style": "IPY_MODEL_b70f03000cae4cd290e6d05083ac31ce",
            "value": "Map: 100%"
          }
        },
        "eaa8ad753da840e3804aaa79e5f2c241": {
          "model_module": "@jupyter-widgets/controls",
          "model_name": "FloatProgressModel",
          "model_module_version": "1.5.0",
          "state": {
            "_dom_classes": [],
            "_model_module": "@jupyter-widgets/controls",
            "_model_module_version": "1.5.0",
            "_model_name": "FloatProgressModel",
            "_view_count": null,
            "_view_module": "@jupyter-widgets/controls",
            "_view_module_version": "1.5.0",
            "_view_name": "ProgressView",
            "bar_style": "success",
            "description": "",
            "description_tooltip": null,
            "layout": "IPY_MODEL_704acb4e6c364bf4a2fc01be6219ee6b",
            "max": 157,
            "min": 0,
            "orientation": "horizontal",
            "style": "IPY_MODEL_45d2384321524a04aa5a2903fa1289cf",
            "value": 157
          }
        },
        "018ef82d235e43b19456277fd1879eac": {
          "model_module": "@jupyter-widgets/controls",
          "model_name": "HTMLModel",
          "model_module_version": "1.5.0",
          "state": {
            "_dom_classes": [],
            "_model_module": "@jupyter-widgets/controls",
            "_model_module_version": "1.5.0",
            "_model_name": "HTMLModel",
            "_view_count": null,
            "_view_module": "@jupyter-widgets/controls",
            "_view_module_version": "1.5.0",
            "_view_name": "HTMLView",
            "description": "",
            "description_tooltip": null,
            "layout": "IPY_MODEL_229884d71b8842929e93189fc9ff8f0d",
            "placeholder": "​",
            "style": "IPY_MODEL_04dba02883f14a3395c0adb7e3803ff7",
            "value": " 157/157 [00:00&lt;00:00, 517.07 examples/s]"
          }
        },
        "88a29eb934364973a7644a55e2e71f97": {
          "model_module": "@jupyter-widgets/base",
          "model_name": "LayoutModel",
          "model_module_version": "1.2.0",
          "state": {
            "_model_module": "@jupyter-widgets/base",
            "_model_module_version": "1.2.0",
            "_model_name": "LayoutModel",
            "_view_count": null,
            "_view_module": "@jupyter-widgets/base",
            "_view_module_version": "1.2.0",
            "_view_name": "LayoutView",
            "align_content": null,
            "align_items": null,
            "align_self": null,
            "border": null,
            "bottom": null,
            "display": null,
            "flex": null,
            "flex_flow": null,
            "grid_area": null,
            "grid_auto_columns": null,
            "grid_auto_flow": null,
            "grid_auto_rows": null,
            "grid_column": null,
            "grid_gap": null,
            "grid_row": null,
            "grid_template_areas": null,
            "grid_template_columns": null,
            "grid_template_rows": null,
            "height": null,
            "justify_content": null,
            "justify_items": null,
            "left": null,
            "margin": null,
            "max_height": null,
            "max_width": null,
            "min_height": null,
            "min_width": null,
            "object_fit": null,
            "object_position": null,
            "order": null,
            "overflow": null,
            "overflow_x": null,
            "overflow_y": null,
            "padding": null,
            "right": null,
            "top": null,
            "visibility": null,
            "width": null
          }
        },
        "1af0c0a9c481402b9fc0e820b32c73e8": {
          "model_module": "@jupyter-widgets/base",
          "model_name": "LayoutModel",
          "model_module_version": "1.2.0",
          "state": {
            "_model_module": "@jupyter-widgets/base",
            "_model_module_version": "1.2.0",
            "_model_name": "LayoutModel",
            "_view_count": null,
            "_view_module": "@jupyter-widgets/base",
            "_view_module_version": "1.2.0",
            "_view_name": "LayoutView",
            "align_content": null,
            "align_items": null,
            "align_self": null,
            "border": null,
            "bottom": null,
            "display": null,
            "flex": null,
            "flex_flow": null,
            "grid_area": null,
            "grid_auto_columns": null,
            "grid_auto_flow": null,
            "grid_auto_rows": null,
            "grid_column": null,
            "grid_gap": null,
            "grid_row": null,
            "grid_template_areas": null,
            "grid_template_columns": null,
            "grid_template_rows": null,
            "height": null,
            "justify_content": null,
            "justify_items": null,
            "left": null,
            "margin": null,
            "max_height": null,
            "max_width": null,
            "min_height": null,
            "min_width": null,
            "object_fit": null,
            "object_position": null,
            "order": null,
            "overflow": null,
            "overflow_x": null,
            "overflow_y": null,
            "padding": null,
            "right": null,
            "top": null,
            "visibility": null,
            "width": null
          }
        },
        "b70f03000cae4cd290e6d05083ac31ce": {
          "model_module": "@jupyter-widgets/controls",
          "model_name": "DescriptionStyleModel",
          "model_module_version": "1.5.0",
          "state": {
            "_model_module": "@jupyter-widgets/controls",
            "_model_module_version": "1.5.0",
            "_model_name": "DescriptionStyleModel",
            "_view_count": null,
            "_view_module": "@jupyter-widgets/base",
            "_view_module_version": "1.2.0",
            "_view_name": "StyleView",
            "description_width": ""
          }
        },
        "704acb4e6c364bf4a2fc01be6219ee6b": {
          "model_module": "@jupyter-widgets/base",
          "model_name": "LayoutModel",
          "model_module_version": "1.2.0",
          "state": {
            "_model_module": "@jupyter-widgets/base",
            "_model_module_version": "1.2.0",
            "_model_name": "LayoutModel",
            "_view_count": null,
            "_view_module": "@jupyter-widgets/base",
            "_view_module_version": "1.2.0",
            "_view_name": "LayoutView",
            "align_content": null,
            "align_items": null,
            "align_self": null,
            "border": null,
            "bottom": null,
            "display": null,
            "flex": null,
            "flex_flow": null,
            "grid_area": null,
            "grid_auto_columns": null,
            "grid_auto_flow": null,
            "grid_auto_rows": null,
            "grid_column": null,
            "grid_gap": null,
            "grid_row": null,
            "grid_template_areas": null,
            "grid_template_columns": null,
            "grid_template_rows": null,
            "height": null,
            "justify_content": null,
            "justify_items": null,
            "left": null,
            "margin": null,
            "max_height": null,
            "max_width": null,
            "min_height": null,
            "min_width": null,
            "object_fit": null,
            "object_position": null,
            "order": null,
            "overflow": null,
            "overflow_x": null,
            "overflow_y": null,
            "padding": null,
            "right": null,
            "top": null,
            "visibility": null,
            "width": null
          }
        },
        "45d2384321524a04aa5a2903fa1289cf": {
          "model_module": "@jupyter-widgets/controls",
          "model_name": "ProgressStyleModel",
          "model_module_version": "1.5.0",
          "state": {
            "_model_module": "@jupyter-widgets/controls",
            "_model_module_version": "1.5.0",
            "_model_name": "ProgressStyleModel",
            "_view_count": null,
            "_view_module": "@jupyter-widgets/base",
            "_view_module_version": "1.2.0",
            "_view_name": "StyleView",
            "bar_color": null,
            "description_width": ""
          }
        },
        "229884d71b8842929e93189fc9ff8f0d": {
          "model_module": "@jupyter-widgets/base",
          "model_name": "LayoutModel",
          "model_module_version": "1.2.0",
          "state": {
            "_model_module": "@jupyter-widgets/base",
            "_model_module_version": "1.2.0",
            "_model_name": "LayoutModel",
            "_view_count": null,
            "_view_module": "@jupyter-widgets/base",
            "_view_module_version": "1.2.0",
            "_view_name": "LayoutView",
            "align_content": null,
            "align_items": null,
            "align_self": null,
            "border": null,
            "bottom": null,
            "display": null,
            "flex": null,
            "flex_flow": null,
            "grid_area": null,
            "grid_auto_columns": null,
            "grid_auto_flow": null,
            "grid_auto_rows": null,
            "grid_column": null,
            "grid_gap": null,
            "grid_row": null,
            "grid_template_areas": null,
            "grid_template_columns": null,
            "grid_template_rows": null,
            "height": null,
            "justify_content": null,
            "justify_items": null,
            "left": null,
            "margin": null,
            "max_height": null,
            "max_width": null,
            "min_height": null,
            "min_width": null,
            "object_fit": null,
            "object_position": null,
            "order": null,
            "overflow": null,
            "overflow_x": null,
            "overflow_y": null,
            "padding": null,
            "right": null,
            "top": null,
            "visibility": null,
            "width": null
          }
        },
        "04dba02883f14a3395c0adb7e3803ff7": {
          "model_module": "@jupyter-widgets/controls",
          "model_name": "DescriptionStyleModel",
          "model_module_version": "1.5.0",
          "state": {
            "_model_module": "@jupyter-widgets/controls",
            "_model_module_version": "1.5.0",
            "_model_name": "DescriptionStyleModel",
            "_view_count": null,
            "_view_module": "@jupyter-widgets/base",
            "_view_module_version": "1.2.0",
            "_view_name": "StyleView",
            "description_width": ""
          }
        },
        "1360f3293d8647dca7bbd1fc8c5ab2f8": {
          "model_module": "@jupyter-widgets/controls",
          "model_name": "HBoxModel",
          "model_module_version": "1.5.0",
          "state": {
            "_dom_classes": [],
            "_model_module": "@jupyter-widgets/controls",
            "_model_module_version": "1.5.0",
            "_model_name": "HBoxModel",
            "_view_count": null,
            "_view_module": "@jupyter-widgets/controls",
            "_view_module_version": "1.5.0",
            "_view_name": "HBoxView",
            "box_style": "",
            "children": [
              "IPY_MODEL_5825ee1fbf8549d394d9eaa89a61f5ae",
              "IPY_MODEL_271e57b234024e70bfa5da5e7f969e84",
              "IPY_MODEL_02a4b53d945d4f7485bcd56513cde8a0"
            ],
            "layout": "IPY_MODEL_b956a9cdde4d4e9e937510d7b0c45feb"
          }
        },
        "5825ee1fbf8549d394d9eaa89a61f5ae": {
          "model_module": "@jupyter-widgets/controls",
          "model_name": "HTMLModel",
          "model_module_version": "1.5.0",
          "state": {
            "_dom_classes": [],
            "_model_module": "@jupyter-widgets/controls",
            "_model_module_version": "1.5.0",
            "_model_name": "HTMLModel",
            "_view_count": null,
            "_view_module": "@jupyter-widgets/controls",
            "_view_module_version": "1.5.0",
            "_view_name": "HTMLView",
            "description": "",
            "description_tooltip": null,
            "layout": "IPY_MODEL_3c2c5672c00d4e9e92a9039ad578f403",
            "placeholder": "​",
            "style": "IPY_MODEL_827927bd4bf7419c97a7b1623983edf2",
            "value": "Map: 100%"
          }
        },
        "271e57b234024e70bfa5da5e7f969e84": {
          "model_module": "@jupyter-widgets/controls",
          "model_name": "FloatProgressModel",
          "model_module_version": "1.5.0",
          "state": {
            "_dom_classes": [],
            "_model_module": "@jupyter-widgets/controls",
            "_model_module_version": "1.5.0",
            "_model_name": "FloatProgressModel",
            "_view_count": null,
            "_view_module": "@jupyter-widgets/controls",
            "_view_module_version": "1.5.0",
            "_view_name": "ProgressView",
            "bar_style": "success",
            "description": "",
            "description_tooltip": null,
            "layout": "IPY_MODEL_1c7a75c2063044218f570f4d14db88d7",
            "max": 1258,
            "min": 0,
            "orientation": "horizontal",
            "style": "IPY_MODEL_fb2a49d2f91847d18af7ac276dd1436a",
            "value": 1258
          }
        },
        "02a4b53d945d4f7485bcd56513cde8a0": {
          "model_module": "@jupyter-widgets/controls",
          "model_name": "HTMLModel",
          "model_module_version": "1.5.0",
          "state": {
            "_dom_classes": [],
            "_model_module": "@jupyter-widgets/controls",
            "_model_module_version": "1.5.0",
            "_model_name": "HTMLModel",
            "_view_count": null,
            "_view_module": "@jupyter-widgets/controls",
            "_view_module_version": "1.5.0",
            "_view_name": "HTMLView",
            "description": "",
            "description_tooltip": null,
            "layout": "IPY_MODEL_d17036043bdf47fcbfc9d57997581adc",
            "placeholder": "​",
            "style": "IPY_MODEL_2f7ccbf030e54c00a848b1b15d6d41f9",
            "value": " 1258/1258 [00:01&lt;00:00, 648.56 examples/s]"
          }
        },
        "b956a9cdde4d4e9e937510d7b0c45feb": {
          "model_module": "@jupyter-widgets/base",
          "model_name": "LayoutModel",
          "model_module_version": "1.2.0",
          "state": {
            "_model_module": "@jupyter-widgets/base",
            "_model_module_version": "1.2.0",
            "_model_name": "LayoutModel",
            "_view_count": null,
            "_view_module": "@jupyter-widgets/base",
            "_view_module_version": "1.2.0",
            "_view_name": "LayoutView",
            "align_content": null,
            "align_items": null,
            "align_self": null,
            "border": null,
            "bottom": null,
            "display": null,
            "flex": null,
            "flex_flow": null,
            "grid_area": null,
            "grid_auto_columns": null,
            "grid_auto_flow": null,
            "grid_auto_rows": null,
            "grid_column": null,
            "grid_gap": null,
            "grid_row": null,
            "grid_template_areas": null,
            "grid_template_columns": null,
            "grid_template_rows": null,
            "height": null,
            "justify_content": null,
            "justify_items": null,
            "left": null,
            "margin": null,
            "max_height": null,
            "max_width": null,
            "min_height": null,
            "min_width": null,
            "object_fit": null,
            "object_position": null,
            "order": null,
            "overflow": null,
            "overflow_x": null,
            "overflow_y": null,
            "padding": null,
            "right": null,
            "top": null,
            "visibility": null,
            "width": null
          }
        },
        "3c2c5672c00d4e9e92a9039ad578f403": {
          "model_module": "@jupyter-widgets/base",
          "model_name": "LayoutModel",
          "model_module_version": "1.2.0",
          "state": {
            "_model_module": "@jupyter-widgets/base",
            "_model_module_version": "1.2.0",
            "_model_name": "LayoutModel",
            "_view_count": null,
            "_view_module": "@jupyter-widgets/base",
            "_view_module_version": "1.2.0",
            "_view_name": "LayoutView",
            "align_content": null,
            "align_items": null,
            "align_self": null,
            "border": null,
            "bottom": null,
            "display": null,
            "flex": null,
            "flex_flow": null,
            "grid_area": null,
            "grid_auto_columns": null,
            "grid_auto_flow": null,
            "grid_auto_rows": null,
            "grid_column": null,
            "grid_gap": null,
            "grid_row": null,
            "grid_template_areas": null,
            "grid_template_columns": null,
            "grid_template_rows": null,
            "height": null,
            "justify_content": null,
            "justify_items": null,
            "left": null,
            "margin": null,
            "max_height": null,
            "max_width": null,
            "min_height": null,
            "min_width": null,
            "object_fit": null,
            "object_position": null,
            "order": null,
            "overflow": null,
            "overflow_x": null,
            "overflow_y": null,
            "padding": null,
            "right": null,
            "top": null,
            "visibility": null,
            "width": null
          }
        },
        "827927bd4bf7419c97a7b1623983edf2": {
          "model_module": "@jupyter-widgets/controls",
          "model_name": "DescriptionStyleModel",
          "model_module_version": "1.5.0",
          "state": {
            "_model_module": "@jupyter-widgets/controls",
            "_model_module_version": "1.5.0",
            "_model_name": "DescriptionStyleModel",
            "_view_count": null,
            "_view_module": "@jupyter-widgets/base",
            "_view_module_version": "1.2.0",
            "_view_name": "StyleView",
            "description_width": ""
          }
        },
        "1c7a75c2063044218f570f4d14db88d7": {
          "model_module": "@jupyter-widgets/base",
          "model_name": "LayoutModel",
          "model_module_version": "1.2.0",
          "state": {
            "_model_module": "@jupyter-widgets/base",
            "_model_module_version": "1.2.0",
            "_model_name": "LayoutModel",
            "_view_count": null,
            "_view_module": "@jupyter-widgets/base",
            "_view_module_version": "1.2.0",
            "_view_name": "LayoutView",
            "align_content": null,
            "align_items": null,
            "align_self": null,
            "border": null,
            "bottom": null,
            "display": null,
            "flex": null,
            "flex_flow": null,
            "grid_area": null,
            "grid_auto_columns": null,
            "grid_auto_flow": null,
            "grid_auto_rows": null,
            "grid_column": null,
            "grid_gap": null,
            "grid_row": null,
            "grid_template_areas": null,
            "grid_template_columns": null,
            "grid_template_rows": null,
            "height": null,
            "justify_content": null,
            "justify_items": null,
            "left": null,
            "margin": null,
            "max_height": null,
            "max_width": null,
            "min_height": null,
            "min_width": null,
            "object_fit": null,
            "object_position": null,
            "order": null,
            "overflow": null,
            "overflow_x": null,
            "overflow_y": null,
            "padding": null,
            "right": null,
            "top": null,
            "visibility": null,
            "width": null
          }
        },
        "fb2a49d2f91847d18af7ac276dd1436a": {
          "model_module": "@jupyter-widgets/controls",
          "model_name": "ProgressStyleModel",
          "model_module_version": "1.5.0",
          "state": {
            "_model_module": "@jupyter-widgets/controls",
            "_model_module_version": "1.5.0",
            "_model_name": "ProgressStyleModel",
            "_view_count": null,
            "_view_module": "@jupyter-widgets/base",
            "_view_module_version": "1.2.0",
            "_view_name": "StyleView",
            "bar_color": null,
            "description_width": ""
          }
        },
        "d17036043bdf47fcbfc9d57997581adc": {
          "model_module": "@jupyter-widgets/base",
          "model_name": "LayoutModel",
          "model_module_version": "1.2.0",
          "state": {
            "_model_module": "@jupyter-widgets/base",
            "_model_module_version": "1.2.0",
            "_model_name": "LayoutModel",
            "_view_count": null,
            "_view_module": "@jupyter-widgets/base",
            "_view_module_version": "1.2.0",
            "_view_name": "LayoutView",
            "align_content": null,
            "align_items": null,
            "align_self": null,
            "border": null,
            "bottom": null,
            "display": null,
            "flex": null,
            "flex_flow": null,
            "grid_area": null,
            "grid_auto_columns": null,
            "grid_auto_flow": null,
            "grid_auto_rows": null,
            "grid_column": null,
            "grid_gap": null,
            "grid_row": null,
            "grid_template_areas": null,
            "grid_template_columns": null,
            "grid_template_rows": null,
            "height": null,
            "justify_content": null,
            "justify_items": null,
            "left": null,
            "margin": null,
            "max_height": null,
            "max_width": null,
            "min_height": null,
            "min_width": null,
            "object_fit": null,
            "object_position": null,
            "order": null,
            "overflow": null,
            "overflow_x": null,
            "overflow_y": null,
            "padding": null,
            "right": null,
            "top": null,
            "visibility": null,
            "width": null
          }
        },
        "2f7ccbf030e54c00a848b1b15d6d41f9": {
          "model_module": "@jupyter-widgets/controls",
          "model_name": "DescriptionStyleModel",
          "model_module_version": "1.5.0",
          "state": {
            "_model_module": "@jupyter-widgets/controls",
            "_model_module_version": "1.5.0",
            "_model_name": "DescriptionStyleModel",
            "_view_count": null,
            "_view_module": "@jupyter-widgets/base",
            "_view_module_version": "1.2.0",
            "_view_name": "StyleView",
            "description_width": ""
          }
        },
        "1688680b8f4a400c99c34306df27275d": {
          "model_module": "@jupyter-widgets/controls",
          "model_name": "HBoxModel",
          "model_module_version": "1.5.0",
          "state": {
            "_dom_classes": [],
            "_model_module": "@jupyter-widgets/controls",
            "_model_module_version": "1.5.0",
            "_model_name": "HBoxModel",
            "_view_count": null,
            "_view_module": "@jupyter-widgets/controls",
            "_view_module_version": "1.5.0",
            "_view_name": "HBoxView",
            "box_style": "",
            "children": [
              "IPY_MODEL_8c9a832a5d024e5d90b776603cecbf1c",
              "IPY_MODEL_bad84372a5ac4aad84504f7e0595e985",
              "IPY_MODEL_fc47f98472ab4593b42292c6ee230c56"
            ],
            "layout": "IPY_MODEL_00fee820b0d24f1f8de8bf4d2512a782"
          }
        },
        "8c9a832a5d024e5d90b776603cecbf1c": {
          "model_module": "@jupyter-widgets/controls",
          "model_name": "HTMLModel",
          "model_module_version": "1.5.0",
          "state": {
            "_dom_classes": [],
            "_model_module": "@jupyter-widgets/controls",
            "_model_module_version": "1.5.0",
            "_model_name": "HTMLModel",
            "_view_count": null,
            "_view_module": "@jupyter-widgets/controls",
            "_view_module_version": "1.5.0",
            "_view_name": "HTMLView",
            "description": "",
            "description_tooltip": null,
            "layout": "IPY_MODEL_e5fa9e23e9b54d2d8350fcf915161ae1",
            "placeholder": "​",
            "style": "IPY_MODEL_e64e51edc11e493dbb60058d079509c5",
            "value": "100%"
          }
        },
        "bad84372a5ac4aad84504f7e0595e985": {
          "model_module": "@jupyter-widgets/controls",
          "model_name": "FloatProgressModel",
          "model_module_version": "1.5.0",
          "state": {
            "_dom_classes": [],
            "_model_module": "@jupyter-widgets/controls",
            "_model_module_version": "1.5.0",
            "_model_name": "FloatProgressModel",
            "_view_count": null,
            "_view_module": "@jupyter-widgets/controls",
            "_view_module_version": "1.5.0",
            "_view_name": "ProgressView",
            "bar_style": "success",
            "description": "",
            "description_tooltip": null,
            "layout": "IPY_MODEL_47e1c8f214e94c9e89302356a9147399",
            "max": 157,
            "min": 0,
            "orientation": "horizontal",
            "style": "IPY_MODEL_cdf23e84accd45aeb47b5f071b1803d5",
            "value": 157
          }
        },
        "fc47f98472ab4593b42292c6ee230c56": {
          "model_module": "@jupyter-widgets/controls",
          "model_name": "HTMLModel",
          "model_module_version": "1.5.0",
          "state": {
            "_dom_classes": [],
            "_model_module": "@jupyter-widgets/controls",
            "_model_module_version": "1.5.0",
            "_model_name": "HTMLModel",
            "_view_count": null,
            "_view_module": "@jupyter-widgets/controls",
            "_view_module_version": "1.5.0",
            "_view_name": "HTMLView",
            "description": "",
            "description_tooltip": null,
            "layout": "IPY_MODEL_386e92d5e3ec4227824effcc6afb4e96",
            "placeholder": "​",
            "style": "IPY_MODEL_9409ff5cb08f4a5488198ad481169852",
            "value": " 157/157 [00:00&lt;00:00, 234.66it/s]"
          }
        },
        "00fee820b0d24f1f8de8bf4d2512a782": {
          "model_module": "@jupyter-widgets/base",
          "model_name": "LayoutModel",
          "model_module_version": "1.2.0",
          "state": {
            "_model_module": "@jupyter-widgets/base",
            "_model_module_version": "1.2.0",
            "_model_name": "LayoutModel",
            "_view_count": null,
            "_view_module": "@jupyter-widgets/base",
            "_view_module_version": "1.2.0",
            "_view_name": "LayoutView",
            "align_content": null,
            "align_items": null,
            "align_self": null,
            "border": null,
            "bottom": null,
            "display": null,
            "flex": null,
            "flex_flow": null,
            "grid_area": null,
            "grid_auto_columns": null,
            "grid_auto_flow": null,
            "grid_auto_rows": null,
            "grid_column": null,
            "grid_gap": null,
            "grid_row": null,
            "grid_template_areas": null,
            "grid_template_columns": null,
            "grid_template_rows": null,
            "height": null,
            "justify_content": null,
            "justify_items": null,
            "left": null,
            "margin": null,
            "max_height": null,
            "max_width": null,
            "min_height": null,
            "min_width": null,
            "object_fit": null,
            "object_position": null,
            "order": null,
            "overflow": null,
            "overflow_x": null,
            "overflow_y": null,
            "padding": null,
            "right": null,
            "top": null,
            "visibility": null,
            "width": null
          }
        },
        "e5fa9e23e9b54d2d8350fcf915161ae1": {
          "model_module": "@jupyter-widgets/base",
          "model_name": "LayoutModel",
          "model_module_version": "1.2.0",
          "state": {
            "_model_module": "@jupyter-widgets/base",
            "_model_module_version": "1.2.0",
            "_model_name": "LayoutModel",
            "_view_count": null,
            "_view_module": "@jupyter-widgets/base",
            "_view_module_version": "1.2.0",
            "_view_name": "LayoutView",
            "align_content": null,
            "align_items": null,
            "align_self": null,
            "border": null,
            "bottom": null,
            "display": null,
            "flex": null,
            "flex_flow": null,
            "grid_area": null,
            "grid_auto_columns": null,
            "grid_auto_flow": null,
            "grid_auto_rows": null,
            "grid_column": null,
            "grid_gap": null,
            "grid_row": null,
            "grid_template_areas": null,
            "grid_template_columns": null,
            "grid_template_rows": null,
            "height": null,
            "justify_content": null,
            "justify_items": null,
            "left": null,
            "margin": null,
            "max_height": null,
            "max_width": null,
            "min_height": null,
            "min_width": null,
            "object_fit": null,
            "object_position": null,
            "order": null,
            "overflow": null,
            "overflow_x": null,
            "overflow_y": null,
            "padding": null,
            "right": null,
            "top": null,
            "visibility": null,
            "width": null
          }
        },
        "e64e51edc11e493dbb60058d079509c5": {
          "model_module": "@jupyter-widgets/controls",
          "model_name": "DescriptionStyleModel",
          "model_module_version": "1.5.0",
          "state": {
            "_model_module": "@jupyter-widgets/controls",
            "_model_module_version": "1.5.0",
            "_model_name": "DescriptionStyleModel",
            "_view_count": null,
            "_view_module": "@jupyter-widgets/base",
            "_view_module_version": "1.2.0",
            "_view_name": "StyleView",
            "description_width": ""
          }
        },
        "47e1c8f214e94c9e89302356a9147399": {
          "model_module": "@jupyter-widgets/base",
          "model_name": "LayoutModel",
          "model_module_version": "1.2.0",
          "state": {
            "_model_module": "@jupyter-widgets/base",
            "_model_module_version": "1.2.0",
            "_model_name": "LayoutModel",
            "_view_count": null,
            "_view_module": "@jupyter-widgets/base",
            "_view_module_version": "1.2.0",
            "_view_name": "LayoutView",
            "align_content": null,
            "align_items": null,
            "align_self": null,
            "border": null,
            "bottom": null,
            "display": null,
            "flex": null,
            "flex_flow": null,
            "grid_area": null,
            "grid_auto_columns": null,
            "grid_auto_flow": null,
            "grid_auto_rows": null,
            "grid_column": null,
            "grid_gap": null,
            "grid_row": null,
            "grid_template_areas": null,
            "grid_template_columns": null,
            "grid_template_rows": null,
            "height": null,
            "justify_content": null,
            "justify_items": null,
            "left": null,
            "margin": null,
            "max_height": null,
            "max_width": null,
            "min_height": null,
            "min_width": null,
            "object_fit": null,
            "object_position": null,
            "order": null,
            "overflow": null,
            "overflow_x": null,
            "overflow_y": null,
            "padding": null,
            "right": null,
            "top": null,
            "visibility": null,
            "width": null
          }
        },
        "cdf23e84accd45aeb47b5f071b1803d5": {
          "model_module": "@jupyter-widgets/controls",
          "model_name": "ProgressStyleModel",
          "model_module_version": "1.5.0",
          "state": {
            "_model_module": "@jupyter-widgets/controls",
            "_model_module_version": "1.5.0",
            "_model_name": "ProgressStyleModel",
            "_view_count": null,
            "_view_module": "@jupyter-widgets/base",
            "_view_module_version": "1.2.0",
            "_view_name": "StyleView",
            "bar_color": null,
            "description_width": ""
          }
        },
        "386e92d5e3ec4227824effcc6afb4e96": {
          "model_module": "@jupyter-widgets/base",
          "model_name": "LayoutModel",
          "model_module_version": "1.2.0",
          "state": {
            "_model_module": "@jupyter-widgets/base",
            "_model_module_version": "1.2.0",
            "_model_name": "LayoutModel",
            "_view_count": null,
            "_view_module": "@jupyter-widgets/base",
            "_view_module_version": "1.2.0",
            "_view_name": "LayoutView",
            "align_content": null,
            "align_items": null,
            "align_self": null,
            "border": null,
            "bottom": null,
            "display": null,
            "flex": null,
            "flex_flow": null,
            "grid_area": null,
            "grid_auto_columns": null,
            "grid_auto_flow": null,
            "grid_auto_rows": null,
            "grid_column": null,
            "grid_gap": null,
            "grid_row": null,
            "grid_template_areas": null,
            "grid_template_columns": null,
            "grid_template_rows": null,
            "height": null,
            "justify_content": null,
            "justify_items": null,
            "left": null,
            "margin": null,
            "max_height": null,
            "max_width": null,
            "min_height": null,
            "min_width": null,
            "object_fit": null,
            "object_position": null,
            "order": null,
            "overflow": null,
            "overflow_x": null,
            "overflow_y": null,
            "padding": null,
            "right": null,
            "top": null,
            "visibility": null,
            "width": null
          }
        },
        "9409ff5cb08f4a5488198ad481169852": {
          "model_module": "@jupyter-widgets/controls",
          "model_name": "DescriptionStyleModel",
          "model_module_version": "1.5.0",
          "state": {
            "_model_module": "@jupyter-widgets/controls",
            "_model_module_version": "1.5.0",
            "_model_name": "DescriptionStyleModel",
            "_view_count": null,
            "_view_module": "@jupyter-widgets/base",
            "_view_module_version": "1.2.0",
            "_view_name": "StyleView",
            "description_width": ""
          }
        },
        "99fa0a457caf41b2ac18df165167e9a1": {
          "model_module": "@jupyter-widgets/controls",
          "model_name": "HBoxModel",
          "model_module_version": "1.5.0",
          "state": {
            "_dom_classes": [],
            "_model_module": "@jupyter-widgets/controls",
            "_model_module_version": "1.5.0",
            "_model_name": "HBoxModel",
            "_view_count": null,
            "_view_module": "@jupyter-widgets/controls",
            "_view_module_version": "1.5.0",
            "_view_name": "HBoxView",
            "box_style": "",
            "children": [
              "IPY_MODEL_e8192529774c424fbedf43c530d81668",
              "IPY_MODEL_905ba7cefd23471ab66844703b88b54c",
              "IPY_MODEL_7c16e3b0127245a7bddafb6525a053e0"
            ],
            "layout": "IPY_MODEL_a44693b189434c2eb8ccfdd73f513ad0"
          }
        },
        "e8192529774c424fbedf43c530d81668": {
          "model_module": "@jupyter-widgets/controls",
          "model_name": "HTMLModel",
          "model_module_version": "1.5.0",
          "state": {
            "_dom_classes": [],
            "_model_module": "@jupyter-widgets/controls",
            "_model_module_version": "1.5.0",
            "_model_name": "HTMLModel",
            "_view_count": null,
            "_view_module": "@jupyter-widgets/controls",
            "_view_module_version": "1.5.0",
            "_view_name": "HTMLView",
            "description": "",
            "description_tooltip": null,
            "layout": "IPY_MODEL_003db3946ace4131af281306a2689e02",
            "placeholder": "​",
            "style": "IPY_MODEL_8d5d32ff25694acdb6198bde3d88a9ed",
            "value": "Map: 100%"
          }
        },
        "905ba7cefd23471ab66844703b88b54c": {
          "model_module": "@jupyter-widgets/controls",
          "model_name": "FloatProgressModel",
          "model_module_version": "1.5.0",
          "state": {
            "_dom_classes": [],
            "_model_module": "@jupyter-widgets/controls",
            "_model_module_version": "1.5.0",
            "_model_name": "FloatProgressModel",
            "_view_count": null,
            "_view_module": "@jupyter-widgets/controls",
            "_view_module_version": "1.5.0",
            "_view_name": "ProgressView",
            "bar_style": "success",
            "description": "",
            "description_tooltip": null,
            "layout": "IPY_MODEL_1037088c5f7e4c5ba2c00ea75034ee2a",
            "max": 158,
            "min": 0,
            "orientation": "horizontal",
            "style": "IPY_MODEL_ac8c19c1493344ff8909dcf7b51932d6",
            "value": 158
          }
        },
        "7c16e3b0127245a7bddafb6525a053e0": {
          "model_module": "@jupyter-widgets/controls",
          "model_name": "HTMLModel",
          "model_module_version": "1.5.0",
          "state": {
            "_dom_classes": [],
            "_model_module": "@jupyter-widgets/controls",
            "_model_module_version": "1.5.0",
            "_model_name": "HTMLModel",
            "_view_count": null,
            "_view_module": "@jupyter-widgets/controls",
            "_view_module_version": "1.5.0",
            "_view_name": "HTMLView",
            "description": "",
            "description_tooltip": null,
            "layout": "IPY_MODEL_e284048659de432baf1baa0099f18371",
            "placeholder": "​",
            "style": "IPY_MODEL_6dd355d615f04922b6235782fb7e2bf3",
            "value": " 158/158 [00:00&lt;00:00, 518.90 examples/s]"
          }
        },
        "a44693b189434c2eb8ccfdd73f513ad0": {
          "model_module": "@jupyter-widgets/base",
          "model_name": "LayoutModel",
          "model_module_version": "1.2.0",
          "state": {
            "_model_module": "@jupyter-widgets/base",
            "_model_module_version": "1.2.0",
            "_model_name": "LayoutModel",
            "_view_count": null,
            "_view_module": "@jupyter-widgets/base",
            "_view_module_version": "1.2.0",
            "_view_name": "LayoutView",
            "align_content": null,
            "align_items": null,
            "align_self": null,
            "border": null,
            "bottom": null,
            "display": null,
            "flex": null,
            "flex_flow": null,
            "grid_area": null,
            "grid_auto_columns": null,
            "grid_auto_flow": null,
            "grid_auto_rows": null,
            "grid_column": null,
            "grid_gap": null,
            "grid_row": null,
            "grid_template_areas": null,
            "grid_template_columns": null,
            "grid_template_rows": null,
            "height": null,
            "justify_content": null,
            "justify_items": null,
            "left": null,
            "margin": null,
            "max_height": null,
            "max_width": null,
            "min_height": null,
            "min_width": null,
            "object_fit": null,
            "object_position": null,
            "order": null,
            "overflow": null,
            "overflow_x": null,
            "overflow_y": null,
            "padding": null,
            "right": null,
            "top": null,
            "visibility": null,
            "width": null
          }
        },
        "003db3946ace4131af281306a2689e02": {
          "model_module": "@jupyter-widgets/base",
          "model_name": "LayoutModel",
          "model_module_version": "1.2.0",
          "state": {
            "_model_module": "@jupyter-widgets/base",
            "_model_module_version": "1.2.0",
            "_model_name": "LayoutModel",
            "_view_count": null,
            "_view_module": "@jupyter-widgets/base",
            "_view_module_version": "1.2.0",
            "_view_name": "LayoutView",
            "align_content": null,
            "align_items": null,
            "align_self": null,
            "border": null,
            "bottom": null,
            "display": null,
            "flex": null,
            "flex_flow": null,
            "grid_area": null,
            "grid_auto_columns": null,
            "grid_auto_flow": null,
            "grid_auto_rows": null,
            "grid_column": null,
            "grid_gap": null,
            "grid_row": null,
            "grid_template_areas": null,
            "grid_template_columns": null,
            "grid_template_rows": null,
            "height": null,
            "justify_content": null,
            "justify_items": null,
            "left": null,
            "margin": null,
            "max_height": null,
            "max_width": null,
            "min_height": null,
            "min_width": null,
            "object_fit": null,
            "object_position": null,
            "order": null,
            "overflow": null,
            "overflow_x": null,
            "overflow_y": null,
            "padding": null,
            "right": null,
            "top": null,
            "visibility": null,
            "width": null
          }
        },
        "8d5d32ff25694acdb6198bde3d88a9ed": {
          "model_module": "@jupyter-widgets/controls",
          "model_name": "DescriptionStyleModel",
          "model_module_version": "1.5.0",
          "state": {
            "_model_module": "@jupyter-widgets/controls",
            "_model_module_version": "1.5.0",
            "_model_name": "DescriptionStyleModel",
            "_view_count": null,
            "_view_module": "@jupyter-widgets/base",
            "_view_module_version": "1.2.0",
            "_view_name": "StyleView",
            "description_width": ""
          }
        },
        "1037088c5f7e4c5ba2c00ea75034ee2a": {
          "model_module": "@jupyter-widgets/base",
          "model_name": "LayoutModel",
          "model_module_version": "1.2.0",
          "state": {
            "_model_module": "@jupyter-widgets/base",
            "_model_module_version": "1.2.0",
            "_model_name": "LayoutModel",
            "_view_count": null,
            "_view_module": "@jupyter-widgets/base",
            "_view_module_version": "1.2.0",
            "_view_name": "LayoutView",
            "align_content": null,
            "align_items": null,
            "align_self": null,
            "border": null,
            "bottom": null,
            "display": null,
            "flex": null,
            "flex_flow": null,
            "grid_area": null,
            "grid_auto_columns": null,
            "grid_auto_flow": null,
            "grid_auto_rows": null,
            "grid_column": null,
            "grid_gap": null,
            "grid_row": null,
            "grid_template_areas": null,
            "grid_template_columns": null,
            "grid_template_rows": null,
            "height": null,
            "justify_content": null,
            "justify_items": null,
            "left": null,
            "margin": null,
            "max_height": null,
            "max_width": null,
            "min_height": null,
            "min_width": null,
            "object_fit": null,
            "object_position": null,
            "order": null,
            "overflow": null,
            "overflow_x": null,
            "overflow_y": null,
            "padding": null,
            "right": null,
            "top": null,
            "visibility": null,
            "width": null
          }
        },
        "ac8c19c1493344ff8909dcf7b51932d6": {
          "model_module": "@jupyter-widgets/controls",
          "model_name": "ProgressStyleModel",
          "model_module_version": "1.5.0",
          "state": {
            "_model_module": "@jupyter-widgets/controls",
            "_model_module_version": "1.5.0",
            "_model_name": "ProgressStyleModel",
            "_view_count": null,
            "_view_module": "@jupyter-widgets/base",
            "_view_module_version": "1.2.0",
            "_view_name": "StyleView",
            "bar_color": null,
            "description_width": ""
          }
        },
        "e284048659de432baf1baa0099f18371": {
          "model_module": "@jupyter-widgets/base",
          "model_name": "LayoutModel",
          "model_module_version": "1.2.0",
          "state": {
            "_model_module": "@jupyter-widgets/base",
            "_model_module_version": "1.2.0",
            "_model_name": "LayoutModel",
            "_view_count": null,
            "_view_module": "@jupyter-widgets/base",
            "_view_module_version": "1.2.0",
            "_view_name": "LayoutView",
            "align_content": null,
            "align_items": null,
            "align_self": null,
            "border": null,
            "bottom": null,
            "display": null,
            "flex": null,
            "flex_flow": null,
            "grid_area": null,
            "grid_auto_columns": null,
            "grid_auto_flow": null,
            "grid_auto_rows": null,
            "grid_column": null,
            "grid_gap": null,
            "grid_row": null,
            "grid_template_areas": null,
            "grid_template_columns": null,
            "grid_template_rows": null,
            "height": null,
            "justify_content": null,
            "justify_items": null,
            "left": null,
            "margin": null,
            "max_height": null,
            "max_width": null,
            "min_height": null,
            "min_width": null,
            "object_fit": null,
            "object_position": null,
            "order": null,
            "overflow": null,
            "overflow_x": null,
            "overflow_y": null,
            "padding": null,
            "right": null,
            "top": null,
            "visibility": null,
            "width": null
          }
        },
        "6dd355d615f04922b6235782fb7e2bf3": {
          "model_module": "@jupyter-widgets/controls",
          "model_name": "DescriptionStyleModel",
          "model_module_version": "1.5.0",
          "state": {
            "_model_module": "@jupyter-widgets/controls",
            "_model_module_version": "1.5.0",
            "_model_name": "DescriptionStyleModel",
            "_view_count": null,
            "_view_module": "@jupyter-widgets/base",
            "_view_module_version": "1.2.0",
            "_view_name": "StyleView",
            "description_width": ""
          }
        },
        "192f58d506bf4772b537d326d47e8e16": {
          "model_module": "@jupyter-widgets/controls",
          "model_name": "HBoxModel",
          "model_module_version": "1.5.0",
          "state": {
            "_dom_classes": [],
            "_model_module": "@jupyter-widgets/controls",
            "_model_module_version": "1.5.0",
            "_model_name": "HBoxModel",
            "_view_count": null,
            "_view_module": "@jupyter-widgets/controls",
            "_view_module_version": "1.5.0",
            "_view_name": "HBoxView",
            "box_style": "",
            "children": [
              "IPY_MODEL_e5b40fa807db486ea739e7286268e118",
              "IPY_MODEL_914a370cdfab4c7bb7362e65c2d17e9d",
              "IPY_MODEL_ccb0491dad7e4424b3c41f5bedf905bf"
            ],
            "layout": "IPY_MODEL_17b2707124be4f589133cfb8672e39f5"
          }
        },
        "e5b40fa807db486ea739e7286268e118": {
          "model_module": "@jupyter-widgets/controls",
          "model_name": "HTMLModel",
          "model_module_version": "1.5.0",
          "state": {
            "_dom_classes": [],
            "_model_module": "@jupyter-widgets/controls",
            "_model_module_version": "1.5.0",
            "_model_name": "HTMLModel",
            "_view_count": null,
            "_view_module": "@jupyter-widgets/controls",
            "_view_module_version": "1.5.0",
            "_view_name": "HTMLView",
            "description": "",
            "description_tooltip": null,
            "layout": "IPY_MODEL_6eff149f24f2448b96f0347fabbd1bb4",
            "placeholder": "​",
            "style": "IPY_MODEL_df2e882df21348edb235896f28b026bc",
            "value": "100%"
          }
        },
        "914a370cdfab4c7bb7362e65c2d17e9d": {
          "model_module": "@jupyter-widgets/controls",
          "model_name": "FloatProgressModel",
          "model_module_version": "1.5.0",
          "state": {
            "_dom_classes": [],
            "_model_module": "@jupyter-widgets/controls",
            "_model_module_version": "1.5.0",
            "_model_name": "FloatProgressModel",
            "_view_count": null,
            "_view_module": "@jupyter-widgets/controls",
            "_view_module_version": "1.5.0",
            "_view_name": "ProgressView",
            "bar_style": "success",
            "description": "",
            "description_tooltip": null,
            "layout": "IPY_MODEL_2b8cf198b0d44a5d9a2d70144a5653a4",
            "max": 158,
            "min": 0,
            "orientation": "horizontal",
            "style": "IPY_MODEL_e83067a3aca14d1faf11cdbfc2ebb228",
            "value": 158
          }
        },
        "ccb0491dad7e4424b3c41f5bedf905bf": {
          "model_module": "@jupyter-widgets/controls",
          "model_name": "HTMLModel",
          "model_module_version": "1.5.0",
          "state": {
            "_dom_classes": [],
            "_model_module": "@jupyter-widgets/controls",
            "_model_module_version": "1.5.0",
            "_model_name": "HTMLModel",
            "_view_count": null,
            "_view_module": "@jupyter-widgets/controls",
            "_view_module_version": "1.5.0",
            "_view_name": "HTMLView",
            "description": "",
            "description_tooltip": null,
            "layout": "IPY_MODEL_f40f98a7e4484519938f56f557a72e44",
            "placeholder": "​",
            "style": "IPY_MODEL_d8d96993a12844dd94c12e5de7390c8f",
            "value": " 158/158 [00:00&lt;00:00, 357.20it/s]"
          }
        },
        "17b2707124be4f589133cfb8672e39f5": {
          "model_module": "@jupyter-widgets/base",
          "model_name": "LayoutModel",
          "model_module_version": "1.2.0",
          "state": {
            "_model_module": "@jupyter-widgets/base",
            "_model_module_version": "1.2.0",
            "_model_name": "LayoutModel",
            "_view_count": null,
            "_view_module": "@jupyter-widgets/base",
            "_view_module_version": "1.2.0",
            "_view_name": "LayoutView",
            "align_content": null,
            "align_items": null,
            "align_self": null,
            "border": null,
            "bottom": null,
            "display": null,
            "flex": null,
            "flex_flow": null,
            "grid_area": null,
            "grid_auto_columns": null,
            "grid_auto_flow": null,
            "grid_auto_rows": null,
            "grid_column": null,
            "grid_gap": null,
            "grid_row": null,
            "grid_template_areas": null,
            "grid_template_columns": null,
            "grid_template_rows": null,
            "height": null,
            "justify_content": null,
            "justify_items": null,
            "left": null,
            "margin": null,
            "max_height": null,
            "max_width": null,
            "min_height": null,
            "min_width": null,
            "object_fit": null,
            "object_position": null,
            "order": null,
            "overflow": null,
            "overflow_x": null,
            "overflow_y": null,
            "padding": null,
            "right": null,
            "top": null,
            "visibility": null,
            "width": null
          }
        },
        "6eff149f24f2448b96f0347fabbd1bb4": {
          "model_module": "@jupyter-widgets/base",
          "model_name": "LayoutModel",
          "model_module_version": "1.2.0",
          "state": {
            "_model_module": "@jupyter-widgets/base",
            "_model_module_version": "1.2.0",
            "_model_name": "LayoutModel",
            "_view_count": null,
            "_view_module": "@jupyter-widgets/base",
            "_view_module_version": "1.2.0",
            "_view_name": "LayoutView",
            "align_content": null,
            "align_items": null,
            "align_self": null,
            "border": null,
            "bottom": null,
            "display": null,
            "flex": null,
            "flex_flow": null,
            "grid_area": null,
            "grid_auto_columns": null,
            "grid_auto_flow": null,
            "grid_auto_rows": null,
            "grid_column": null,
            "grid_gap": null,
            "grid_row": null,
            "grid_template_areas": null,
            "grid_template_columns": null,
            "grid_template_rows": null,
            "height": null,
            "justify_content": null,
            "justify_items": null,
            "left": null,
            "margin": null,
            "max_height": null,
            "max_width": null,
            "min_height": null,
            "min_width": null,
            "object_fit": null,
            "object_position": null,
            "order": null,
            "overflow": null,
            "overflow_x": null,
            "overflow_y": null,
            "padding": null,
            "right": null,
            "top": null,
            "visibility": null,
            "width": null
          }
        },
        "df2e882df21348edb235896f28b026bc": {
          "model_module": "@jupyter-widgets/controls",
          "model_name": "DescriptionStyleModel",
          "model_module_version": "1.5.0",
          "state": {
            "_model_module": "@jupyter-widgets/controls",
            "_model_module_version": "1.5.0",
            "_model_name": "DescriptionStyleModel",
            "_view_count": null,
            "_view_module": "@jupyter-widgets/base",
            "_view_module_version": "1.2.0",
            "_view_name": "StyleView",
            "description_width": ""
          }
        },
        "2b8cf198b0d44a5d9a2d70144a5653a4": {
          "model_module": "@jupyter-widgets/base",
          "model_name": "LayoutModel",
          "model_module_version": "1.2.0",
          "state": {
            "_model_module": "@jupyter-widgets/base",
            "_model_module_version": "1.2.0",
            "_model_name": "LayoutModel",
            "_view_count": null,
            "_view_module": "@jupyter-widgets/base",
            "_view_module_version": "1.2.0",
            "_view_name": "LayoutView",
            "align_content": null,
            "align_items": null,
            "align_self": null,
            "border": null,
            "bottom": null,
            "display": null,
            "flex": null,
            "flex_flow": null,
            "grid_area": null,
            "grid_auto_columns": null,
            "grid_auto_flow": null,
            "grid_auto_rows": null,
            "grid_column": null,
            "grid_gap": null,
            "grid_row": null,
            "grid_template_areas": null,
            "grid_template_columns": null,
            "grid_template_rows": null,
            "height": null,
            "justify_content": null,
            "justify_items": null,
            "left": null,
            "margin": null,
            "max_height": null,
            "max_width": null,
            "min_height": null,
            "min_width": null,
            "object_fit": null,
            "object_position": null,
            "order": null,
            "overflow": null,
            "overflow_x": null,
            "overflow_y": null,
            "padding": null,
            "right": null,
            "top": null,
            "visibility": null,
            "width": null
          }
        },
        "e83067a3aca14d1faf11cdbfc2ebb228": {
          "model_module": "@jupyter-widgets/controls",
          "model_name": "ProgressStyleModel",
          "model_module_version": "1.5.0",
          "state": {
            "_model_module": "@jupyter-widgets/controls",
            "_model_module_version": "1.5.0",
            "_model_name": "ProgressStyleModel",
            "_view_count": null,
            "_view_module": "@jupyter-widgets/base",
            "_view_module_version": "1.2.0",
            "_view_name": "StyleView",
            "bar_color": null,
            "description_width": ""
          }
        },
        "f40f98a7e4484519938f56f557a72e44": {
          "model_module": "@jupyter-widgets/base",
          "model_name": "LayoutModel",
          "model_module_version": "1.2.0",
          "state": {
            "_model_module": "@jupyter-widgets/base",
            "_model_module_version": "1.2.0",
            "_model_name": "LayoutModel",
            "_view_count": null,
            "_view_module": "@jupyter-widgets/base",
            "_view_module_version": "1.2.0",
            "_view_name": "LayoutView",
            "align_content": null,
            "align_items": null,
            "align_self": null,
            "border": null,
            "bottom": null,
            "display": null,
            "flex": null,
            "flex_flow": null,
            "grid_area": null,
            "grid_auto_columns": null,
            "grid_auto_flow": null,
            "grid_auto_rows": null,
            "grid_column": null,
            "grid_gap": null,
            "grid_row": null,
            "grid_template_areas": null,
            "grid_template_columns": null,
            "grid_template_rows": null,
            "height": null,
            "justify_content": null,
            "justify_items": null,
            "left": null,
            "margin": null,
            "max_height": null,
            "max_width": null,
            "min_height": null,
            "min_width": null,
            "object_fit": null,
            "object_position": null,
            "order": null,
            "overflow": null,
            "overflow_x": null,
            "overflow_y": null,
            "padding": null,
            "right": null,
            "top": null,
            "visibility": null,
            "width": null
          }
        },
        "d8d96993a12844dd94c12e5de7390c8f": {
          "model_module": "@jupyter-widgets/controls",
          "model_name": "DescriptionStyleModel",
          "model_module_version": "1.5.0",
          "state": {
            "_model_module": "@jupyter-widgets/controls",
            "_model_module_version": "1.5.0",
            "_model_name": "DescriptionStyleModel",
            "_view_count": null,
            "_view_module": "@jupyter-widgets/base",
            "_view_module_version": "1.2.0",
            "_view_name": "StyleView",
            "description_width": ""
          }
        }
      }
    }
  },
  "nbformat": 4,
  "nbformat_minor": 0
}